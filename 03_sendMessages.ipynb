{
 "cells": [
  {
   "cell_type": "markdown",
   "metadata": {},
   "source": [
    "# Sending Messages\n",
    "This notebook lets you specify recipients to whom you can send user messages. Everyone can log in with their access data and assign this notebook to their HMI. To do this, simply enter your own HMI with the corresponding secret as the client in this script. Running this notebook, you will authorize your HMI to send messages. \n",
    "Just go to the **Cell** drop-down menu and use the **Run All** button."
   ]
  },
  {
   "cell_type": "markdown",
   "metadata": {},
   "source": [
    "First, all necessary modules are imported into the script, including the S³I library."
   ]
  },
  {
   "cell_type": "code",
   "execution_count": 1,
   "metadata": {
    "colab": {},
    "colab_type": "code",
    "id": "Dq8Gtn6pwZgu"
   },
   "outputs": [],
   "source": [
    "import os\n",
    "import uuid\n",
    "import base64\n",
    "import getpass\n",
    "import s3i\n",
    "import time\n",
    "import requests\n",
    "import json\n",
    "import jwt\n",
    "from tools import print_with_timestamp, check_for_quotes\n",
    "import logging"
   ]
  },
  {
   "cell_type": "markdown",
   "metadata": {},
   "source": [
    "In order to use the S³I this notebook needs a client id and the respective secret. You can assign this notebook to your personal HMI, to make this notebook your HMI. Therefore enter the id and the secret of your HMI in the following input fields."
   ]
  },
  {
   "cell_type": "code",
   "execution_count": 2,
   "metadata": {
    "colab": {},
    "colab_type": "code",
    "id": "H7PsFQvcwv54"
   },
   "outputs": [
    {
     "name": "stdout",
     "output_type": "stream",
     "text": [
      "[S3I]: Please enter your HMI id:s3i:90b88ad0-11e7-43b6-84b6-6b5f9454faf8\n",
      "[S3I]: Please enter the secret:········\n",
      "[S3I][2020-07-26 12:34:41]: Client id and secret are set\n"
     ]
    }
   ],
   "source": [
    "hmiId = check_for_quotes(input('[S3I]: Please enter your HMI id:'))\n",
    "hmiSecret = check_for_quotes(getpass.getpass('[S3I]: Please enter the secret:'))\n",
    "print_with_timestamp(\"Client id and secret are set\")"
   ]
  },
  {
   "cell_type": "markdown",
   "metadata": {},
   "source": [
    "Next, you have to enter your username and password. With your access data a token is requested which authorizes this client (your HMI) to call up the wheel loader's location on your behalf."
   ]
  },
  {
   "cell_type": "code",
   "execution_count": 3,
   "metadata": {
    "colab": {},
    "colab_type": "code",
    "id": "6BbgbOqhwszW"
   },
   "outputs": [
    {
     "name": "stdout",
     "output_type": "stream",
     "text": [
      "[S3I][2020-07-26 12:34:41]: DEMO Send User Messages, please log in!\n",
      "[S3I]: Please enter your username:KWH-Team\n",
      "[S3I]: Please enter the password:········\n",
      "[S3I][2020-07-26 12:34:49]: Your credentials are sent to S3I IdentityProvider.\n"
     ]
    },
    {
     "ename": "AttributeError",
     "evalue": "'IdentityProvider' object has no attribute 'get_token'",
     "output_type": "error",
     "traceback": [
      "\u001b[1;31m---------------------------------------------------------------------------\u001b[0m",
      "\u001b[1;31mAttributeError\u001b[0m                            Traceback (most recent call last)",
      "\u001b[1;32m<ipython-input-3-f7928938e3d8>\u001b[0m in \u001b[0;36m<module>\u001b[1;34m\u001b[0m\n\u001b[0;32m     10\u001b[0m                                              \u001b[0musername\u001b[0m\u001b[1;33m=\u001b[0m\u001b[0musername\u001b[0m\u001b[1;33m,\u001b[0m\u001b[1;33m\u001b[0m\u001b[1;33m\u001b[0m\u001b[0m\n\u001b[0;32m     11\u001b[0m                                              password=password)\n\u001b[1;32m---> 12\u001b[1;33m \u001b[0maccess_token\u001b[0m \u001b[1;33m=\u001b[0m \u001b[0ms3i_identity_provider\u001b[0m\u001b[1;33m.\u001b[0m\u001b[0mget_token\u001b[0m\u001b[1;33m(\u001b[0m\u001b[0ms3i\u001b[0m\u001b[1;33m.\u001b[0m\u001b[0mTokenType\u001b[0m\u001b[1;33m.\u001b[0m\u001b[0mACCESS_TOKEN\u001b[0m\u001b[1;33m)\u001b[0m\u001b[1;33m\u001b[0m\u001b[1;33m\u001b[0m\u001b[0m\n\u001b[0m\u001b[0;32m     13\u001b[0m \u001b[1;33m\u001b[0m\u001b[0m\n\u001b[0;32m     14\u001b[0m ''' decode the access token\n",
      "\u001b[1;31mAttributeError\u001b[0m: 'IdentityProvider' object has no attribute 'get_token'"
     ]
    }
   ],
   "source": [
    "print_with_timestamp(\"DEMO Send User Messages, please log in!\")\n",
    "username = check_for_quotes(input('[S3I]: Please enter your username:'))\n",
    "password = getpass.getpass('[S3I]: Please enter the password:')\n",
    "print_with_timestamp(\"Your credentials are sent to S3I IdentityProvider.\")\n",
    "s3i_identity_provider = s3i.IdentityProvider(grant_type='password', \n",
    "                                             identity_provider_url=\"https://idp.s3i.vswf.dev/\",\n",
    "                                             realm='KWH',\n",
    "                                             client_id=hmiId,\n",
    "                                             client_secret=hmiSecret,\n",
    "                                             username=username,\n",
    "                                             password=password)\n",
    "access_token = s3i_identity_provider.get_token(s3i.TokenType.ACCESS_TOKEN)\n",
    "\n",
    "''' decode the access token\n",
    "'''\n",
    "parsed_username = jwt.decode(access_token, verify=False)[\n",
    "    \"preferred_username\"]\n",
    "\n",
    "print_with_timestamp(\"Token received \" + parsed_username + \" logged in.\")"
   ]
  },
  {
   "cell_type": "markdown",
   "metadata": {
    "colab_type": "text",
    "id": "TrctXjUHMaDZ"
   },
   "source": [
    "## Add Private Key\n",
    "In order to sign messages, you have to insert your private key."
   ]
  },
  {
   "cell_type": "code",
   "execution_count": null,
   "metadata": {},
   "outputs": [],
   "source": [
    "key = check_for_quotes(input('[S3I]: Please enter your private key:'))\n",
    "access_token = s3i_identity_provider.get_token(s3i.TokenType.ACCESS_TOKEN)\n",
    "dir = s3i.Directory(s3i_dir_url=\"https://dir.s3i.vswf.dev/api/2/\", token=access_token)\n",
    "personalKey = s3i.Key(key_str=key)\n",
    "print_with_timestamp(\"The personal key of this hmi \" + hmiId + \" is set.\")"
   ]
  },
  {
   "cell_type": "markdown",
   "metadata": {
    "colab_type": "text",
    "id": "OUNMdDLcwZhU"
   },
   "source": [
    "# >>> *Run All below* from here to send a new message\n",
    "## Send User Messages"
   ]
  },
  {
   "cell_type": "markdown",
   "metadata": {
    "colab_type": "text",
    "id": "Ry6DBea3wZhY"
   },
   "source": [
    "## Verify the endpoints\n",
    "You can type in the last names of your respective receiver. The endpoints of his/her HMI is requested from the directory."
   ]
  },
  {
   "cell_type": "code",
   "execution_count": null,
   "metadata": {
    "colab": {},
    "colab_type": "code",
    "id": "WL9xOxMywZhb"
   },
   "outputs": [],
   "source": [
    "receivers_names = input('[S3I]: Please enter the last names of the receivers, seperate with a space:').split()\n",
    "print(receivers_names)"
   ]
  },
  {
   "cell_type": "code",
   "execution_count": null,
   "metadata": {
    "colab": {},
    "colab_type": "code",
    "id": "OoxiHX5awZhl"
   },
   "outputs": [],
   "source": [
    "access_token = s3i_identity_provider.get_token(s3i.TokenType.ACCESS_TOKEN, scope=\"rabbitmq.write:*/*/*\")\n",
    "dir = s3i.Directory(s3i_dir_url=\"https://dir.s3i.vswf.dev/api/2/\", token=access_token)\n",
    "\n",
    "\"\"\" search for the respective users and their HMI endpoints in the S³I directory\n",
    "\"\"\"\n",
    "try:\n",
    "     receivers_entries = [dir.searchAll(queryParameter=\"filter=like(attributes/name,\\\"DT of \"+receivers_name+\"\\\")\") \\\n",
    "                         for receivers_name in receivers_names]\n",
    "\n",
    "    receivers = [receiver[\"items\"][0][\"thingId\"] for receiver in receivers_entries]\n",
    "    defaultHMIs = [receiver[\"items\"][0][\"attributes\"][\"defaultHMI\"] for receiver in receivers_entries]\n",
    "    endpoints = [dir.queryThingIDBased(hmi+\"/attributes/allEndpoints\")[0] for hmi in defaultHMIs]\n",
    "\n",
    "    print(\"[S3I]: You specified \" , receivers, \" as receivers.\")\n",
    "    print(\"[S3I]: The respective endpoints are: \" , endpoints)\n",
    "except:\n",
    "    print(\"ERROR. The endpoints of the receivers could not be found in the directory. There might be a spelling error or you do not have the access rights for the respective entries in the directory.\")\n",
    "    raise NameError"
   ]
  },
  {
   "cell_type": "markdown",
   "metadata": {
    "colab_type": "text",
    "id": "ZyX3ZnB6wZiH"
   },
   "source": [
    "## Enter the message\n",
    "You have to prepare the message you want to send. The user message consists of a subject and a text. Attachments are optional. The endpoint of your HMI is added as the *replyToEndpoint*."
   ]
  },
  {
   "cell_type": "code",
   "execution_count": null,
   "metadata": {
    "colab": {},
    "colab_type": "code",
    "id": "rrQzFat-wZiJ",
    "scrolled": true
   },
   "outputs": [],
   "source": [
    "subject = input('[S3I]: Please enter the subject: \\n')\n",
    "text = input('[S3I]: Please enter the text: \\n')\n",
    "msg_uuid = \"s3i:\" + str(uuid.uuid4())\n",
    "replyToEndpoint=None\n",
    "attachments=None"
   ]
  },
  {
   "cell_type": "markdown",
   "metadata": {
    "colab_type": "text",
    "id": "DAnR4TUhwZiQ"
   },
   "source": [
    "### Add attachement to message\n",
    "If you do not want to add an attachment, just leave the input field empty by pressing **RETURN**."
   ]
  },
  {
   "cell_type": "code",
   "execution_count": null,
   "metadata": {
    "colab": {},
    "colab_type": "code",
    "id": "ycwmtXCMwZiR"
   },
   "outputs": [],
   "source": [
    "filename_list = list(map(str, input(\"[S3I]: Please enter the name of file that you want to send or leave blank to send a message without attachment: (demo.txt / demo.shp.zip / demo.hpr)\").split()))\n",
    "attachments = list()\n",
    "\n",
    "for filename in filename_list:\n",
    "    attachment_dict = dict()\n",
    "    attachment_dict[\"filename\"] = filename\n",
    "    try:\n",
    "        with open(\"attachment_files/\"+filename, \"rb\") as f:\n",
    "            # encode an attachment file to BASE64 bytes\n",
    "            base64_data = base64.b64encode(f.read())\n",
    "            data = base64_data.decode()  # convert byte to str\n",
    "            attachment_dict[\"data\"] = data\n",
    "            attachments.append(attachment_dict)\n",
    "    except:\n",
    "        logging.error(\"Attachment file could not be read.\")"
   ]
  },
  {
   "cell_type": "markdown",
   "metadata": {
    "colab_type": "text",
    "id": "k2X-yvRlwZiZ"
   },
   "source": [
    "## Assemble User Message\n",
    "The parts of the user message are assembled."
   ]
  },
  {
   "cell_type": "code",
   "execution_count": null,
   "metadata": {
    "colab": {},
    "colab_type": "code",
    "id": "4gBbl12PwZib"
   },
   "outputs": [],
   "source": [
    "message = s3i.UserMessage(sender=hmiId, \n",
    "                          identifier=msg_uuid,\n",
    "                          receivers=receivers,\n",
    "                          subject=subject,\n",
    "                          text=text,\n",
    "                          replyToEndpoint=replyToEndpoint,\n",
    "                          attachments=attachments)\n",
    "print(\"[S3I]: Your message is: \", json.dumps(message.msg, indent=2))"
   ]
  },
  {
   "cell_type": "markdown",
   "metadata": {
    "colab_type": "text",
    "id": "AHIeRP4aRREI"
   },
   "source": [
    "## Sign the message\n",
    "The message gets signed with your private key."
   ]
  },
  {
   "cell_type": "code",
   "execution_count": null,
   "metadata": {
    "colab": {},
    "colab_type": "code",
    "id": "B0h0Wo3UwZio"
   },
   "outputs": [],
   "source": [
    "message.sign(personalKey.key)\n",
    "print(\"[S3I]: The signed PGP message is: \\n\",message.pgpMsg.__str__())"
   ]
  },
  {
   "cell_type": "markdown",
   "metadata": {
    "colab_type": "text",
    "id": "4_-kiT6PRX7p"
   },
   "source": [
    "## Encrypt the message\n",
    "The message gets encrypted with the public keys of your receivers."
   ]
  },
  {
   "cell_type": "code",
   "execution_count": null,
   "metadata": {
    "colab": {},
    "colab_type": "code",
    "id": "B97Uhd51wZix",
    "scrolled": false
   },
   "outputs": [],
   "source": [
    "access_token = s3i_identity_provider.get_token(s3i.TokenType.ACCESS_TOKEN)\n",
    "dir = s3i.Directory(s3i_dir_url=\"https://dir.s3i.vswf.dev/api/2/\", token=access_token)\n",
    "publicKeys_str = dir.getPublicKey(defaultHMIs)\n",
    "publicKeys = [s3i.Key(key_str=i) for i in publicKeys_str]\n",
    "message.encrypt(publicKeys)\n",
    "print(\"[S3I]: The encrypted PGP message is: \\n\",message.pgpMsg.__str__())"
   ]
  },
  {
   "cell_type": "markdown",
   "metadata": {
    "colab_type": "text",
    "id": "GY8frv99Rcmi"
   },
   "source": [
    "## Send the message via S³I Broker\n",
    "The message is send to the S³I broker which transmitts the message to the respective endpoints of the receivers."
   ]
  },
  {
   "cell_type": "code",
   "execution_count": null,
   "metadata": {
    "colab": {},
    "colab_type": "code",
    "id": "Jgb7aEWDwZi4"
   },
   "outputs": [],
   "source": [
    "print_with_timestamp(\"Sending the message to the S3I Broker\")\n",
    "access_token = s3i_identity_provider.get_token(s3i.TokenType.ACCESS_TOKEN)\n",
    "headers = {'Content-Type': 'application/pgp-encrypted', 'Authorization': 'Bearer ' + access_token}\n",
    "endpoints_str=\"\"\n",
    "for endpoint in endpoints:\n",
    "    endpoints_str = endpoints_str+\",\"+endpoint if (len(endpoints_str)!=0) else endpoint\n",
    "response = requests.post(url=\"https://broker.s3i.vswf.dev/\"+endpoints_str,\n",
    "                                data=message.pgpMsg.__str__(), headers=headers)\n",
    "print_with_timestamp(response.text)"
   ]
  }
 ],
 "metadata": {
  "colab": {
   "collapsed_sections": [],
   "name": "S³I_Workshop.ipynb",
   "provenance": [
    {
     "file_id": "https://github.com/lenekaethe/workshop/blob/master/hmi.ipynb",
     "timestamp": 1589872198236
    }
   ]
  },
  "kernelspec": {
   "display_name": "Python 3",
   "language": "python",
   "name": "python3"
  },
  "language_info": {
   "codemirror_mode": {
    "name": "ipython",
    "version": 3
   },
   "file_extension": ".py",
   "mimetype": "text/x-python",
   "name": "python",
   "nbconvert_exporter": "python",
   "pygments_lexer": "ipython3",
   "version": "3.7.6"
  },
  "varInspector": {
   "cols": {
    "lenName": 16,
    "lenType": 16,
    "lenVar": 40
   },
   "kernels_config": {
    "python": {
     "delete_cmd_postfix": "",
     "delete_cmd_prefix": "del ",
     "library": "var_list.py",
     "varRefreshCmd": "print(var_dic_list())"
    },
    "r": {
     "delete_cmd_postfix": ") ",
     "delete_cmd_prefix": "rm(",
     "library": "var_list.r",
     "varRefreshCmd": "cat(var_dic_list()) "
    }
   },
   "oldHeight": 290.85,
   "position": {
    "height": "40px",
    "left": "521px",
    "right": "20px",
    "top": "23px",
    "width": "800px"
   },
   "types_to_exclude": [
    "module",
    "function",
    "builtin_function_or_method",
    "instance",
    "_Feature"
   ],
   "varInspector_section_display": "none",
   "window_display": true
  }
 },
 "nbformat": 4,
 "nbformat_minor": 1
}
