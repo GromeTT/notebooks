{
 "cells": [
  {
   "cell_type": "markdown",
   "metadata": {},
   "source": [
    "# Wheel Loader GetValueRequest\n",
    "This is a KWH HMI which allows to request the wheel loader's location. This Notebook acts as an **HMI** in terms of the S³I and a **client** in terms of OAuth authentication. Enter the id of your HMI with the corresponding secret as *hmi* in this script to make this notebook to your HMI. Running this notebook, you will authorize your HMI to call up the wheel loader's location. \n",
    "Just go to the **Cell** drop-down menu and use the **Run All** button."
   ]
  },
  {
   "cell_type": "markdown",
   "metadata": {},
   "source": [
    "First, all necessary modules are imported into the script, including the S³I library."
   ]
  },
  {
   "cell_type": "code",
   "execution_count": null,
   "metadata": {},
   "outputs": [],
   "source": [
    "import s3i\n",
    "import json\n",
    "import uuid\n",
    "import jwt\n",
    "import time\n",
    "import os\n",
    "import base64\n",
    "import getpass\n",
    "import requests\n",
    "from tools import print_with_timestamp"
   ]
  },
  {
   "cell_type": "markdown",
   "metadata": {},
   "source": [
    "In order to use the S³I this notebook needs a client id and the respective secret. You can assign this notebook to your personal HMI, to make this notebook your HMI. Therefore enter the id and the secret of your HMI in the following input fields."
   ]
  },
  {
   "cell_type": "code",
   "execution_count": null,
   "metadata": {},
   "outputs": [],
   "source": [
    "print_with_timestamp(\"Assign a client to this notebook. (The id of your HMI)\")\n",
    "hmiId = input('[S3I]: Please enter your HMI id:')\n",
    "hmiSecret = getpass.getpass('[S3I]: Please enter your HMI secret:')\n",
    "print_with_timestamp(\"HMI id and secret are set\")"
   ]
  },
  {
   "cell_type": "markdown",
   "metadata": {},
   "source": [
    "Next, you have to enter your username and password. With your access data a token is requested which authorizes this client (your HMI) to call up the wheel loader's location on your behalf."
   ]
  },
  {
   "cell_type": "code",
   "execution_count": null,
   "metadata": {},
   "outputs": [],
   "source": [
    "print_with_timestamp(\"DEMO Wheel loader, please log in!\")\n",
    "username = input('[S3I]: Please enter your username:')\n",
    "password = getpass.getpass('[S3I]: Please enter the password:')\n",
    "print_with_timestamp(\"Your credentials are sent to S3I IdentityProvider.\")\n",
    "s3i_identity_provider = s3i.IdentityProvider(grant_type='password', \n",
    "                                             identity_provider_url=\"https://idp.s3i.vswf.dev/\",\n",
    "                                             realm='KWH',\n",
    "                                             client_id=hmiId,\n",
    "                                             client_secret=hmiSecret,\n",
    "                                             username=username,\n",
    "                                             password=password)\n",
    "access_token = s3i_identity_provider.get_token(s3i.TokenType.ACCESS_TOKEN)\n",
    "\n",
    "''' decode the access token\n",
    "'''\n",
    "parsed_username = jwt.decode(access_token, verify=False)[\n",
    "    \"preferred_username\"]\n",
    "\n",
    "print_with_timestamp(\"Token received, \" + parsed_username + \" logged in.\")"
   ]
  },
  {
   "cell_type": "markdown",
   "metadata": {},
   "source": [
    "After the token has been received, it can be used to query the endpoint of the wheel loader. To query the wheel loader in the S³I Directory, you must have the rights to view the wheel loader. With the creation of your S³I account you should have got this right. In case of problems please contact the S³I team (s3i@kwh40.de).\n",
    "\n",
    "Besides the endpoint of the wheel loader, the enpoint of this HMI is also needed to add as \"ReplyToEnpoint\" field in the request. The endpoint of this HMI is also queried from the directory, as it may has changed. By querying its own endpoint from the directory, the HMI is independent of changes made to its own endpoint. These changes then only need to be listed in the directory."
   ]
  },
  {
   "cell_type": "code",
   "execution_count": null,
   "metadata": {},
   "outputs": [],
   "source": [
    "''' authentication with JWT in S3I Directory \n",
    "'''\n",
    "\n",
    "s3i_directory = s3i.Directory(\n",
    "    s3i_dir_url=\"https://dir.s3i.vswf.dev/api/2/\", token=access_token)\n",
    "\n",
    "print_with_timestamp(\"Authentication with Token in S3I Directory successful\")\n",
    "    \n",
    "''' query the sender's endpoint\n",
    "'''\n",
    "sender_endpoint = s3i_directory.queryThingIDBased(hmiId+\"/attributes/allEndpoints\")[0]\n",
    "    \n",
    "''' query the wheel loaders's Id and endpoint\n",
    "'''\n",
    "wheelloaderID = s3i_directory.queryAttributeBased(\n",
    "    \"name\", \"wheelloader\")[0][\"thingId\"]\n",
    "\n",
    "wheelloaderEndpoint = s3i_directory.queryThingIDBased(wheelloaderID+\"/attributes/allEndpoints\")\n",
    "\n",
    "receivers = [wheelloaderID]\n",
    "receiver_endpoints = wheelloaderEndpoint"
   ]
  },
  {
   "cell_type": "markdown",
   "metadata": {},
   "source": [
    "After querying the enpoints, the message is prepared. Since the location is one value of the wheel loader, a *GetValueRequest* is instantiated and filled in."
   ]
  },
  {
   "cell_type": "code",
   "execution_count": null,
   "metadata": {},
   "outputs": [],
   "source": [
    "print_with_timestamp(\"Prepare the GetValueRequest.\")\n",
    "attributePath = input(\n",
    "        '[S3I]: please enter the attribute path of the value you want to receive from the wheel loader (e.g., attributes/features/ml40::Location OR attributes/features/ml40::Composite/targets/ml40::Tank/features/ml40::LiquidFillingLevel/currentLevel): \\n')\n",
    "\n",
    "msg_uuid = \"s3i:\" + str(uuid.uuid4())\n",
    "\n",
    "servReq = s3i.GetValueRequest()\n",
    "servReq.fillGetValueRequest(senderUUID=hmiId, receiverUUID=receivers, sender_endpoint=sender_endpoint,\n",
    "                                attributePath=attributePath, msgUUID=msg_uuid)\n",
    "print_with_timestamp(\"GetValueRequest prepared:\")\n",
    "print(json.dumps(servReq.msg, indent=2))"
   ]
  },
  {
   "cell_type": "markdown",
   "metadata": {},
   "source": [
    "The HMI requests a new token to establish a connection to the broker and sends the request to the wheel loader's endpoint. It then checks incoming responses."
   ]
  },
  {
   "cell_type": "code",
   "execution_count": null,
   "metadata": {},
   "outputs": [],
   "source": [
    "print_with_timestamp(\"Sending the GetValueRequest to the wheel loader\")\n",
    "access_token = s3i_identity_provider.get_token(s3i.TokenType.ACCESS_TOKEN)\n",
    "headers = {'Content-Type': 'application/json', 'Authorization': 'Bearer ' + access_token}\n",
    "#print(receiver_endpoints)\n",
    "response = requests.post(url=\"https://broker.s3i.vswf.dev/\"+receiver_endpoints[0] ,\n",
    "                                data=json.dumps(servReq.msg), headers=headers)\n",
    "print_with_timestamp(response.text)"
   ]
  },
  {
   "cell_type": "code",
   "execution_count": null,
   "metadata": {},
   "outputs": [],
   "source": [
    "print_with_timestamp(\"Check the wheel loaders response\")\n",
    "access_token = s3i_identity_provider.get_token(s3i.TokenType.ACCESS_TOKEN)\n",
    "headers = {'Content-Type': 'application/json', 'Authorization': 'Bearer ' + access_token}\n",
    "response = requests.get(url=\"https://broker.s3i.vswf.dev/\"+sender_endpoint , headers=headers)\n",
    "json_acceptable_string = response.text.replace(\"'\", \"\\\"\")\n",
    "\n",
    "if json_acceptable_string:\n",
    "    print(json.dumps(json_acceptable_string[\"value\"], indent=2))\n",
    "    #response_json = json.loads(json_acceptable_string)\n",
    "    \n",
    "    #print_with_timestamp(\"The wheel loader responded with:\")\n",
    "    #print(30*\" \"+\"Longitude: \", response_json[\"value\"][\"longitude\"])\n",
    "    #print(30*\" \"+\"Latitude: \", response_json[\"value\"][\"latitude\"])\n",
    "else:\n",
    "    print_with_timestamp(\"The wheel did not respond yet.\")"
   ]
  }
 ],
 "metadata": {
  "file_extension": ".py",
  "kernelspec": {
   "display_name": "Python 3",
   "language": "python",
   "name": "python3"
  },
  "language_info": {
   "codemirror_mode": {
    "name": "ipython",
    "version": 3
   },
   "file_extension": ".py",
   "mimetype": "text/x-python",
   "name": "python",
   "nbconvert_exporter": "python",
   "pygments_lexer": "ipython3",
   "version": "3.7.0"
  },
  "mimetype": "text/x-python",
  "name": "python",
  "npconvert_exporter": "python",
  "pygments_lexer": "ipython3",
  "version": 3
 },
 "nbformat": 4,
 "nbformat_minor": 2
}