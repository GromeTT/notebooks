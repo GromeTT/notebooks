{
 "cells": [
  {
   "cell_type": "markdown",
   "metadata": {},
   "source": [
    "# Wheel Loader Service Request\n",
    "This is a KWH HMI which allowes to request the wheel loader's *currentJobsDescription* service. Everyone can log in with their access data and authorize this HMI to call up the wheel loader's *currentJobsDescription* service. If you do not have an account yet, please contact the S³I team (s3i@kwh40.de). Of course you can also log in as one of the provided KWH user - forest expert or forest owner - if you do not want to use your own credentials."
   ]
  },
  {
   "cell_type": "markdown",
   "metadata": {},
   "source": [
    "## Include python modules\n",
    "First, all necessary modules are imported into the script, including the S³I library."
   ]
  },
  {
   "cell_type": "code",
   "execution_count": null,
   "metadata": {},
   "outputs": [],
   "source": [
    "from s3i import IdentityProvider, Directory, Broker, ServiceRequest, TokenType\n",
    "import json\n",
    "import uuid\n",
    "import jwt\n",
    "import time\n",
    "import os\n",
    "import base64\n",
    "import getpass\n",
    "import requests"
   ]
  },
  {
   "cell_type": "markdown",
   "metadata": {},
   "source": [
    "First you have to register. You can log in as \"sachverstaendiger\" (forest expert) \"waldbesitzer\" (forest owner) or using your own account. With the specified access data of the respective user, a token is requested which authorizes this client (HMI) to call up the wheel loader service in the name of the user."
   ]
  },
  {
   "cell_type": "code",
   "execution_count": null,
   "metadata": {},
   "outputs": [],
   "source": [
    "print(\"[S3I][\" + time.strftime(\"%Y-%m-%d %H:%M:%S\", time.localtime()) +\n",
    "          \"]: DEMO Wheel loader (service call), please log in as forest expert! (Sachverstaendiger)\")\n",
    "username = input('[S3I]: Please enter the username:')\n",
    "password = getpass.getpass('[S3I]: Please enter the password:')\n",
    "print(\"[S3I][\" + time.strftime(\"%Y-%m-%d %H:%M:%S\", time.localtime()\n",
    "                                   ) + \"]: Username and password are sent to S3I IdentityProvider.\")\n",
    "s3i_identity_provider = IdentityProvider(grant_type='password', identity_provider_url=\"https://idp.s3i.vswf.dev/\", realm='KWH',\n",
    "                                         client_id=\"s3i:6f58e045-fd30-496d-b519-a0b966f1ab01\", client_secret=\"475431fd-2c6d-4cae-bdfa-87226fff0cef\", username=username, password=password)\n",
    "access_token = s3i_identity_provider.get_token(TokenType.ACCESS_TOKEN)\n",
    "\n",
    "''' decode the access token\n",
    "'''\n",
    "parsed_username = jwt.decode(access_token, verify=False)[\n",
    "    \"preferred_username\"]\n",
    "\n",
    "print(\"[S3I][\" + time.strftime(\"%Y-%m-%d %H:%M:%S\",\n",
    "                               time.localtime()) + \"]: Token received \" + parsed_username + \" logged in.\")"
   ]
  },
  {
   "cell_type": "markdown",
   "metadata": {},
   "source": [
    "## Define id of this client\n",
    "The Id of this HMI and the service type for the service request are defined as global variables."
   ]
  },
  {
   "cell_type": "code",
   "execution_count": null,
   "metadata": {},
   "outputs": [],
   "source": [
    " ID = \"s3i:6f58e045-fd30-496d-b519-a0b966f1ab01\"\n",
    " SERVICETYPE = \"currentJobsDescription\""
   ]
  },
  {
   "cell_type": "markdown",
   "metadata": {},
   "source": [
    "After the token has been received, it can be used to query the endpoint of the wheel loader. To query the wheel loader in the S³I Directory, you must have the rights to view the wheel loader. With the creation of your S³I account you should have got this right. In case of problems please contact the S³I team (s3i@kwh40.de).\n",
    "\n",
    "Besides the endpoint of the wheel loder, the enpoint of the HMI is also needed to add as \"ReplyToEnpoint\" field in the request. The endpoint of this HMI is also queried from the directory, as it may has changed. By querying its own endpoint from the directory, the HMI is independent of changes made to its own endpoint. These changes then only need to be listed in the directory."
   ]
  },
  {
   "cell_type": "code",
   "execution_count": null,
   "metadata": {},
   "outputs": [],
   "source": [
    "''' authentication with JWT in S3I Directory \n",
    "'''\n",
    "\n",
    "s3i_directory = Directory(\n",
    "    s3i_dir_url=\"https://dir.s3i.vswf.dev/api/2/\", token=access_token)\n",
    "\n",
    "print(\"[S3I][\" + time.strftime(\"%Y-%m-%d %H:%M:%S\", time.localtime()\n",
    "                                   ) + \"]: Authentication with Token in S3I Directory successful\")\n",
    "    \n",
    "''' query the sender's endpoint\n",
    "'''\n",
    "sender_endpoint = s3i_directory.queryThingIDBased(ID+\"/attributes/defaultEndpoints\")[0]\n",
    "    \n",
    "''' query the wheel loaders's Id and endpoint\n",
    "'''\n",
    "wheelloaderID = s3i_directory.queryAttributeBased(\n",
    "    \"name\", \"wheelloader\")[0][\"thingId\"]\n",
    "\n",
    "wheelloaderServiceEndpoint = s3i_directory.queryEndpointService(\n",
    "    wheelloaderID, SERVICETYPE)\n",
    "\n",
    "receivers = [wheelloaderID]\n",
    "receiver_endpoints = wheelloaderServiceEndpoint\n",
    "\n",
    "print(\"[S3I][\" + time.strftime(\"%Y-%m-%d %H:%M:%S\",\n",
    "                                   time.localtime()) + \"]: Prepare the service request.\")\n",
    "\n",
    "parameters = {\n",
    "    \"service\":\"No parameters needed\"\n",
    "}\n",
    "msg_uuid = \"s3i:\" + str(uuid.uuid4())\n",
    "\n",
    "'''\n",
    "create service request\n",
    "'''\n",
    "servReq = ServiceRequest()\n",
    "servReq.fillServiceRequest(senderUUID=ID, receiverUUID=receivers, sender_endpoint=sender_endpoint,\n",
    "                           serviceType=SERVICETYPE, parameters=parameters, msgUUID=msg_uuid)"
   ]
  },
  {
   "cell_type": "code",
   "execution_count": null,
   "metadata": {},
   "outputs": [],
   "source": [
    "def on_button_clicked(_):\n",
    "    print(\"[S3I][\" + time.strftime(\"%Y-%m-%d %H:%M:%S\", time.localtime()\n",
    "                               ) + \"]: Sending the service request to the wheel loader\")\n",
    "    access_token = s3i_identity_provider.get_token(TokenType.ACCESS_TOKEN)\n",
    "    headers = {'Content-Type': 'application/json', 'Authorization': 'Bearer ' + access_token}\n",
    "    print(receiver_endpoints)\n",
    "    response = requests.post(url=\"https://broker.s3i.vswf.dev/\"+receiver_endpoints[0] ,\n",
    "                                data=json.dumps(servReq.msg), headers=headers)\n",
    "    print(response.text)\n",
    "    get_response()"
   ]
  },
  {
   "cell_type": "code",
   "execution_count": null,
   "metadata": {},
   "outputs": [],
   "source": [
    "def get_response():\n",
    "    print(\"[S3I][\" + time.strftime(\"%Y-%m-%d %H:%M:%S\", time.localtime()\n",
    "                               ) + \"]: Waiting fot the wheel loader's response...\")\n",
    "    access_token = s3i_identity_provider.get_token(TokenType.ACCESS_TOKEN)\n",
    "    headers = {'Content-Type': 'application/json', 'Authorization': 'Bearer ' + access_token}\n",
    "    response = requests.get(url=\"https://broker.s3i.vswf.dev/\"+sender_endpoint , headers=headers)\n",
    "    json_acceptable_string = response.text.replace(\"'\", \"\\\"\")\n",
    "    response_json = json.loads(json_acceptable_string)\n",
    "    print(\"[S3I][\" + time.strftime(\"%Y-%m-%d %H:%M:%S\", time.localtime()\n",
    "                               ) + \"]: The wheel loader responded with:\")\n",
    "    print(response_json[\"results\"])"
   ]
  },
  {
   "cell_type": "markdown",
   "metadata": {},
   "source": [
    "## Send service request\n",
    "The HMI uses the token to establish a connection to the broker and sends the service request to the wheel loader's endpoint. It then waits for incoming responses. If a message arrives, the callback function is called and prints the result of the service request."
   ]
  },
  {
   "cell_type": "code",
   "execution_count": null,
   "metadata": {},
   "outputs": [],
   "source": [
    "# some handy functions to use along widgets\n",
    "from IPython.display import display, Markdown, clear_output\n",
    "# widget packages\n",
    "import ipywidgets as widgets# defining some widgets\n",
    "#text = widgets.Text(\n",
    "#       value='My Text',\n",
    "#       description='Title', )\n",
    "#menu = widgets.Dropdown(\n",
    "#       options=['red', 'blue', 'green'],\n",
    "#       value='red',\n",
    "#       description='Color:')\n",
    "\n",
    "#menu\n",
    "\n",
    "button = widgets.Button(description='Request Wheel Loader Current Job Service')\n",
    "out = widgets.Output()\n",
    "#def on_button_clicked(_):\n",
    "#      # \"linking function with output\"\n",
    "#      with out:\n",
    "#          # what happens when we press the button\n",
    "#          clear_output()\n",
    "#          print('Something happens!')# linking button and function together using a button's method\n",
    "button.on_click(on_button_clicked)\n",
    "# displaying button and its output together\n",
    "widgets.VBox([button,out])"
   ]
  }
 ],
 "metadata": {
  "file_extension": ".py",
  "kernelspec": {
   "display_name": "Python 3.7.3 32-bit ('jupyter': virtualenv)",
   "language": "python",
   "name": "python37332bitjupytervirtualenv4f42e6dc07bb497395a4f5b6edb2161c"
  },
  "language_info": {
   "codemirror_mode": {
    "name": "ipython",
    "version": 3
   },
   "file_extension": ".py",
   "mimetype": "text/x-python",
   "name": "python",
   "nbconvert_exporter": "python",
   "pygments_lexer": "ipython3",
   "version": "3.7.3"
  },
  "mimetype": "text/x-python",
  "name": "python",
  "npconvert_exporter": "python",
  "pygments_lexer": "ipython3",
  "version": 3
 },
 "nbformat": 4,
 "nbformat_minor": 2
}