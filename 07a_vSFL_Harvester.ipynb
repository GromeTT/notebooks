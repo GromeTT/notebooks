{
 "cells": [
  {
   "cell_type": "markdown",
   "metadata": {},
   "source": [
    "# HMI for vSFL-Harvester \n",
    "This is a KWH HMI which allows to request the vSFL-havester's data, all necessary modules are imported into the script, including the S³I library.harvester's data. This Notebook acts as an **HMI** in terms of the S³I and a **client** in terms of OAuth authentication. Enter the id of your HMI with the corresponding secret as *hmi* in this script to make this notebook to your HMI. Running this notebook, you will authorize your HMI to call up the harvester's data. \n",
    "Just go to the **Cell** drop-down menu and use the **Run All** button."
   ]
  },
  {
   "cell_type": "markdown",
   "metadata": {},
   "source": [
    "First, all necessary modules are imported into the script, including the S³I library."
   ]
  },
  {
   "cell_type": "code",
   "execution_count": null,
   "metadata": {},
   "outputs": [],
   "source": [
    "import s3i\n",
    "import json\n",
    "import uuid\n",
    "import jwt\n",
    "import time\n",
    "import os\n",
    "import base64\n",
    "import getpass\n",
    "import requests\n",
    "import collections\n",
    "from tools import print_with_timestamp, check_message_encryption, yes, no## Configure the notebook"
   ]
  },
  {
   "cell_type": "markdown",
   "metadata": {},
   "source": [
    "## Configure the notebook\n",
    "In order to use the S³I this notebook needs a client id and the respective secret. You can assign this notebook to your personal HMI, to make this notebook your HMI. Therefore enter the id and the secret of your HMI in the following input fields."
   ]
  },
  {
   "cell_type": "code",
   "execution_count": null,
   "metadata": {},
   "outputs": [],
   "source": [
    "print_with_timestamp(\"Assign a client to this notebook. (The id of your HMI)\")\n",
    "hmi_id = input('[S3I]: Please enter your HMI id:').strip(',\" ')\n",
    "hmi_secret = getpass.getpass('[S3I]: Please enter your HMI secret:').strip(',\" ')\n",
    "print_with_timestamp(\"HMI id and secret are set\")"
   ]
  },
  {
   "cell_type": "markdown",
   "metadata": {},
   "source": [
    "Next, you have to enter your username and password. With your access data a token is requested which authorizes this client (your HMI) to call up the harvester's data on your behalf."
   ]
  },
  {
   "cell_type": "code",
   "execution_count": null,
   "metadata": {},
   "outputs": [],
   "source": [
    "print_with_timestamp(\"DEMO Communikation with vSFL-harvester, please log in!\")\n",
    "username = input('[S3I]: Please enter your username:').strip(',\" ')\n",
    "password = getpass.getpass('[S3I]: Please enter the password:')\n",
    "print_with_timestamp(\"Your credentials are sent to S3I IdentityProvider.\")\n",
    "s3i_identity_provider = s3i.IdentityProvider(grant_type='password', \n",
    "                                             identity_provider_url=\"https://idp.s3i.vswf.dev/\",\n",
    "                                             realm='KWH',\n",
    "                                             client_id=hmi_id,\n",
    "                                             client_secret=hmi_secret,\n",
    "                                             username=username,\n",
    "                                             password=password)\n",
    "access_token = s3i_identity_provider.get_token(s3i.TokenType.ACCESS_TOKEN)\n",
    "\n",
    "''' decode the access token'''\n",
    "parsed_username = jwt.decode(access_token, verify=False)[\"preferred_username\"]\n",
    "\n",
    "print_with_timestamp(\"Token received, \" + parsed_username + \" logged in.\")"
   ]
  },
  {
   "cell_type": "markdown",
   "metadata": {},
   "source": [
    "After the token has been received, it can be used to query the endpoint of the vSFL- harvester. To query the vSFL-harvester in the S³I Directory, you must have the rights to view the vSFL-harvester. With the creation of your S³I account you should have got this right. In case of problems please contact the S³I team (s3i@kwh40.de).\n",
    "\n",
    "Besides the endpoint of the harvester, the endpoint of this HMI is also needed to add as \"ReplyToEndpoint\" field in the request. The endpoint of this HMI is also queried from the directory, as it may have changed. By querying its own endpoint from the directory, the HMI is independent of changes made to its own endpoint. These changes then only need to be listed in the directory."
   ]
  },
  {
   "cell_type": "code",
   "execution_count": null,
   "metadata": {},
   "outputs": [],
   "source": [
    "\"\"\"authentication with JWT in S3I Directory \"\"\"\n",
    "\n",
    "s3i_directory = s3i.Directory(\n",
    "    s3i_dir_url=\"https://dir.s3i.vswf.dev/api/2/\", token=access_token)\n",
    "\n",
    "print_with_timestamp(\"Authentication with Token in S3I Directory successful\")\n",
    "\n",
    "\"\"\" query the hmi's endpoint\"\"\"\n",
    "\n",
    "hmi_endpoints = s3i_directory.queryThingIDBased(hmi_id+\"/attributes/allEndpoints\")\n",
    "\"\"\" find the hmi's endpoint in broker\"\"\"\n",
    "for endpoint in hmi_endpoints:\n",
    "    if \"s3ib\" in endpoint:\n",
    "        hmi_endpoint = endpoint\n",
    "\n",
    "\"\"\" find the thingId of the vSFL-harvester\"\"\"\n",
    "harvester_id = s3i_directory.queryAttributeBased(\n",
    "    \"name\", \"vSFL-Harvester\")[0][\"thingId\"]\n",
    "\n",
    "\"\"\" query the vSFL-Harvester's endpoint in broker\"\"\"\n",
    "vSFL_harvester_endpoints = s3i_directory.queryThingIDBased(harvester_id+\"/attributes/allEndpoints\")\n",
    "harvester_endpoint = \"\"\n",
    "for endpoint in vSFL_harvester_endpoints:\n",
    "    if \"s3ib\" in endpoint:\n",
    "        harvester_endpoint = endpoint "
   ]
  },
  {
   "cell_type": "markdown",
   "metadata": {},
   "source": [
    "## MessageId Storage\n",
    "The messageIds storage stores all message ids from the messages which have been sent. If a message arrives it is checked against these ids to see, if it is a response to one of these messages. If it is not a response to one a request send from this notebook, the message won't be parsed."
   ]
  },
  {
   "cell_type": "code",
   "execution_count": null,
   "metadata": {},
   "outputs": [],
   "source": [
    "messageIds = list()"
   ]
  },
  {
   "cell_type": "markdown",
   "metadata": {},
   "source": [
    "# >>> *Run All below* from here to access on the vSFL-Harvester\n",
    "______________________________________________________________________________________"
   ]
  },
  {
   "cell_type": "markdown",
   "metadata": {},
   "source": [
    "## Functionality 1: Send a felling job (cutting length for stem sections) to vSFL-harvester\n",
    "To send a felling job to the vSFL-Harvester, we use a S3I-B-ServiceRequest to transfer the job.\n",
    "### 1.a) Prepared the request. A S3I-B-*ServiceRequest* is instantiated and filled in."
   ]
  },
  {
   "cell_type": "code",
   "execution_count": null,
   "metadata": {},
   "outputs": [],
   "source": [
    "print_with_timestamp(\"Prepare the ServiceRequest.\")\n",
    "ser_req = s3i.ServiceRequest()\n",
    "job = {\n",
    "            \"class\": \"fml40::FellingJob\",\n",
    "            \"name\": \"FellingJob4711\",\n",
    "            \"subFeatures\": [\n",
    "                {\n",
    "                    \"class\": \"ml40::Location\",\n",
    "                    \"longitude\": \"6.234353245\",\n",
    "                    \"latitude\": \"50.165163\"\n",
    "                },\n",
    "                {\n",
    "                    \"class\": \"ml40::Shared\",\n",
    "                    \"name\": \"Zielbestand\",\n",
    "                    \"targets\": [\n",
    "                        \"s3i:...\"\n",
    "                    ]\n",
    "                },\n",
    "                {\n",
    "                    \"class\": \"fml40::Assortment\",\n",
    "                    \"grade\": \"is\",\n",
    "                    \"name\": \"Industrieholz kurz\",\n",
    "                    \"subFeatures\": [\n",
    "                        {\n",
    "                            \"class\": \"fml40::TreeType\",\n",
    "                            \"name\": \"Spruce\",\n",
    "                            \"conifer\": True\n",
    "                        },\n",
    "                        {\n",
    "                            \"class\": \"fml40::ThicknessClass\",\n",
    "                            \"name\": \"1a-1b\"   \n",
    "                        },\n",
    "                        {\n",
    "                            \"class\": \"fml40::HarvestingParameters\",\n",
    "                            \"cuttingLength\": 1.5\n",
    "                        }\n",
    "                    ]\n",
    "                },\n",
    "                {\n",
    "                    \"class\": \"fml40::Assortment\",\n",
    "                    \"grade\": \"fl\",\n",
    "                    \"name\": \"Stammholz Abschnitte\",\n",
    "                    \"subFeatures\": [\n",
    "                        {\n",
    "                            \"class\": \"fml40::TreeType\",\n",
    "                            \"name\": \"Spruce\",\n",
    "                            \"conifer\": True\n",
    "                        },\n",
    "                        {\n",
    "                            \"class\": \"fml40::ThicknessClass\",\n",
    "                            \"name\": \">=2a\"   \n",
    "                        },\n",
    "                        {\n",
    "                            \"class\": \"fml40::WoodQuality\",\n",
    "                            \"name\": \"B-C\"   \n",
    "                        },\n",
    "                        {\n",
    "                            \"class\": \"fml40::HarvestingParameters\",\n",
    "                            \"cuttingLength\": 2\n",
    "                        }\n",
    "                    ]\n",
    "                }\n",
    "            ]\n",
    "        }\n",
    "felling_job = {\n",
    "        \"job\": job\n",
    "    }\n",
    "ser_req.fillServiceRequest(\n",
    "            senderUUID = hmi_id,\n",
    "            receiverUUID = [harvester_id],\n",
    "            sender_endpoint = hmi_endpoint,\n",
    "            serviceType = \"AcceptsFellingJobs/acceptRemoteJob\",\n",
    "            parameters = felling_job,\n",
    "            msgUUID = \"s3i:{}\".format(uuid.uuid4())\n",
    ")\n",
    "print_with_timestamp(\"ServiceRequest prepared:\")\n",
    "print(json.dumps(ser_req.msg, indent=2))"
   ]
  },
  {
   "cell_type": "markdown",
   "metadata": {},
   "source": [
    "### 1.b) Send the S3I-B-serviceRequest via S3I-Broker API\n",
    "The HMI requests a new token to establish a connection to the broker and sends the request to the harvester's endpoint. It then checks incoming responses."
   ]
  },
  {
   "cell_type": "code",
   "execution_count": null,
   "metadata": {},
   "outputs": [],
   "source": [
    "print_with_timestamp(\"Sending the serviceRequest to the vSFL-harvester\")\n",
    "access_token = s3i_identity_provider.get_token(s3i.TokenType.ACCESS_TOKEN)\n",
    "headers = {'Content-Type': 'application/json', 'Authorization': 'Bearer ' + access_token}\n",
    "\n",
    "\"\"\"Store the message id into message storage\"\"\"\n",
    "messageIds.append(ser_req.msg[\"identifier\"])\n",
    "\n",
    "\"\"\"Send the serviceRequest via S3I-Broker API\"\"\"\n",
    "service_req_response = requests.post(url=\"http://127.0.0.1:5000/{}\".format(harvester_endpoint),\n",
    "                                     data=json.dumps(ser_req.msg), headers=headers)\n",
    "print_with_timestamp(service_req_response.text)"
   ]
  },
  {
   "cell_type": "markdown",
   "metadata": {},
   "source": [
    "### 1.c) Receive the harvester's S3I-B-ServiceReply via S3I-Broker API"
   ]
  },
  {
   "cell_type": "code",
   "execution_count": null,
   "metadata": {},
   "outputs": [],
   "source": [
    "def receive():\n",
    "    print_with_timestamp(\"Checking the harvester's response\")\n",
    "    access_token = s3i_identity_provider.get_token(s3i.TokenType.ACCESS_TOKEN)\n",
    "    headers = {'Content-Type': 'application/json', 'Authorization': 'Bearer ' + access_token}\n",
    "    response = requests.get(url=\"https://broker.s3i.vswf.dev/\"+hmi_endpoint , headers=headers)\n",
    "    msg_json = \"\"\n",
    "    value_json = \"\"\n",
    "    print(response.text)\n",
    "    json_acceptable_string = response.text.replace(\"'\", \"\\\"\")\n",
    "    if json_acceptable_string:\n",
    "        if check_message_encryption(response.text.strip('\"')) == \"pgp\":\n",
    "            print_with_timestamp(\"You received a PGP message but this notebook can not decrypt PGP messages. Use the 03_inbox notebook to receive PGP messages.\")\n",
    "            print_with_timestamp(\"PGP Message: \" + response.text)\n",
    "            repeat()\n",
    "        else: \n",
    "            msg_json = json.loads(json_acceptable_string)\n",
    "            if msg_json[\"replyingToMessage\"] in messageIds:\n",
    "                value_json = msg_json[\"value\"]\n",
    "                messageIds.remove(msg_json[\"replyingToMessage\"])\n",
    "    else:\n",
    "        print_with_timestamp(\"The harvester did not respond yet.\")\n",
    "        repeat()\n",
    "    return msg_json, value_json\n",
    "\n",
    "def repeat():\n",
    "    decision = input(\"[S3I] Do you want to check for new messages again? [j/n]\")\n",
    "    if decision in yes:\n",
    "        receive()\n",
    "    elif decision in no:\n",
    "        print_with_timestamp(\"You do not want to check for more messages. If you want to check for new messages, just execute this cell again (Run button or SHIFT+RETURN)\")\n",
    "    else:\n",
    "        print_with_timestamp(\"I could not understand your response. If you want to check for new messages, just execute this cell again (Run button or SHIFT+RETURN)\")"
   ]
  },
  {
   "cell_type": "code",
   "execution_count": null,
   "metadata": {},
   "outputs": [],
   "source": [
    "msg, value = receive()"
   ]
  },
  {
   "cell_type": "code",
   "execution_count": null,
   "metadata": {},
   "outputs": [],
   "source": [
    "if msg:\n",
    "    msg = json.loads(json.dumps(msg), object_pairs_hook=collections.OrderedDict)\n",
    "    print_with_timestamp(\"You received a message: \" + json.dumps(msg, indent=2))\n",
    "    "
   ]
  },
  {
   "cell_type": "code",
   "execution_count": null,
   "metadata": {},
   "outputs": [],
   "source": [
    "if value:\n",
    "    value = json.loads(json.dumps(value), object_pairs_hook=collections.OrderedDict)\n",
    "    print_with_timestamp(\"Your requested value is: \" + json.dumps(value, indent=2))"
   ]
  },
  {
   "cell_type": "markdown",
   "metadata": {},
   "source": [
    "## Functionality 3: Send the adjusted cutting length to vSFL-harvester \n",
    "### 3.a) Prepared a S3I-B-SetValueRequest manually"
   ]
  },
  {
   "cell_type": "code",
   "execution_count": null,
   "metadata": {},
   "outputs": [],
   "source": [
    "print_with_timestamp(\"Prepare the SetValueRequest.\")\n",
    "set_value_req = {\n",
    "    \"sender\": hmi_id,\n",
    "    \"identifier\": \"s3i:{}\".format(uuid.uuid4()),\n",
    "    \"receivers\": [harvester_id],\n",
    "    \"messageType\": \"setValueRequest\",\n",
    "    \"replyToEndpoint\": hmi_endpoint,\n",
    "    \"attributePath\": \"\",\n",
    "    \"newValue\":\"\"\n",
    "}\n",
    "print_with_timestamp(\"SetValueRequest prepared:\")\n",
    "print(json.dumps(set_value_req, indent=2))"
   ]
  },
  {
   "cell_type": "markdown",
   "metadata": {},
   "source": [
    "### 3.b) Send the S3I-B-SetValueRequest via S3I-Broker API\n",
    "The HMI requests a new token to establish a connection to the broker and sends the request to the harvester's endpoint. It then checks incoming responses."
   ]
  },
  {
   "cell_type": "code",
   "execution_count": null,
   "metadata": {},
   "outputs": [],
   "source": [
    "print_with_timestamp(\"Sending the SetValueRequest to the vSFL-harvester\")\n",
    "access_token = s3i_identity_provider.get_token(s3i.TokenType.ACCESS_TOKEN)\n",
    "headers = {'Content-Type': 'application/json', 'Authorization': 'Bearer ' + access_token}\n",
    "\n",
    "\"\"\"Store the message id into message storage\"\"\"\n",
    "messageIds.append(set_value_req[\"identifier\"])\n",
    "\n",
    "\"\"\"Send the SetValueRequest via S3I-Broker API\"\"\"\n",
    "set_value_req_response = requests.post(url=\"http://127.0.0.1:5000/{}\".format(harvester_endpoint),\n",
    "                                      data=json.dumps(set_value_req), headers=headers)\n",
    "print_with_timestamp(set_value_req_response.text)"
   ]
  },
  {
   "cell_type": "markdown",
   "metadata": {},
   "source": [
    "### 3.c) Receive the harvester's S3I-B-SetValueReply via S3I-Broker API"
   ]
  },
  {
   "cell_type": "code",
   "execution_count": null,
   "metadata": {},
   "outputs": [],
   "source": [
    "msg, value = receive()"
   ]
  },
  {
   "cell_type": "code",
   "execution_count": null,
   "metadata": {},
   "outputs": [],
   "source": [
    "if msg:\n",
    "    msg = json.loads(json.dumps(msg), object_pairs_hook=collections.OrderedDict)\n",
    "    print_with_timestamp(\"You received a message: \" + json.dumps(msg, indent=2))"
   ]
  },
  {
   "cell_type": "code",
   "execution_count": null,
   "metadata": {},
   "outputs": [],
   "source": [
    "if value:\n",
    "    value = json.loads(json.dumps(value), object_pairs_hook=collections.OrderedDict)\n",
    "    print_with_timestamp(\"Your requested value is: \" + json.dumps(value, indent=2))"
   ]
  }
 ],
 "metadata": {
  "kernelspec": {
   "display_name": "Python 3",
   "language": "python",
   "name": "python3"
  },
  "language_info": {
   "codemirror_mode": {
    "name": "ipython",
    "version": 3
   },
   "file_extension": ".py",
   "mimetype": "text/x-python",
   "name": "python",
   "nbconvert_exporter": "python",
   "pygments_lexer": "ipython3",
   "version": "3.7.6"
  }
 },
 "nbformat": 4,
 "nbformat_minor": 4
}
