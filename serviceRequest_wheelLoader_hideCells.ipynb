{
 "cells": [
  {
   "cell_type": "markdown",
   "metadata": {},
   "source": [
    "# Wheel Loader Service Request\n",
    "This is a KWH HMI which allowes to request the wheel loader's *currentJobsDescription* service. Everyone can log in with their access data and authorize this HMI to call up the wheel loader's *currentJobsDescription* service. If you do not have an account yet, please contact the S³I team (s3i@kwh40.de). Of course you can also log in as the forest expert or forest owner if you do not want to use your own credentials.\n",
    "\n",
    "To run this HMI, we suggest using the *Run All* button from the *Cell* drop-down list in the navigation bar."
   ]
  },
  {
   "cell_type": "code",
   "execution_count": 1,
   "metadata": {
    "hideCode": true,
    "hidePrompt": true,
    "tags": [
     "hide_input"
    ]
   },
   "outputs": [],
   "source": [
    "from s3i import IdentityProvider, Directory, Broker, ServiceRequest, TokenType\n",
    "import json\n",
    "import uuid\n",
    "import jwt\n",
    "import time\n",
    "import os\n",
    "import base64\n",
    "import getpass\n",
    "\n",
    "ID = \"s3i:6f58e045-fd30-496d-b519-a0b966f1ab01\"\n",
    "SERVICETYPE = \"currentJobsDescription\"\n",
    "\n",
    "def callback(ch, method, properties, body):\n",
    "    \"\"\"\n",
    "    This function will be called and executed every time that S3I Broker delivers messages to the consuming application (HMI). \\n\n",
    "    Result contained in received service reply will be parsed and printed.\n",
    "\n",
    "    Args:\n",
    "        ch: channel used during consuming, which binds productor and consumer \\n\n",
    "        method: „method“ contains meta information regarding message delivery: It provides delivery flags, redelivery flags, and a   routing          key that can be used to acknowledge the message. \\n\n",
    "        properties: properties of queue and exchange which are used during consuming \\n\n",
    "        body: content of message\n",
    "    \"\"\"\n",
    "\n",
    "    body_str = body.decode('utf8').replace(\"'\", '\"')\n",
    "    body_json = json.loads(body_str)\n",
    "    print(\"[S3I][\" + time.strftime(\"%Y-%m-%d %H:%M:%S\", time.localtime()) +\n",
    "          \"]: Service reply is received, result: \" + str(body_json[\"results\"]))    \n",
    "    ch.stop_consuming()"
   ]
  },
  {
   "cell_type": "markdown",
   "metadata": {},
   "source": [
    "First you have to register. You can log in as \"sachverstaendiger\" (forest expert) \"waldbesitzer\" (forest owner) or using your own account. With the specified access data of the respective user, a token is requested which authorizes this client (HMI) to call up the wheel loader service in the name of the user."
   ]
  },
  {
   "cell_type": "code",
   "execution_count": 2,
   "metadata": {
    "hideCode": true,
    "hidePrompt": true
   },
   "outputs": [
    {
     "name": "stdout",
     "output_type": "stream",
     "text": [
      "[S3I][2020-05-21 12:14:59]: DEMO Wheel loader (service call), please log in! (Sachverstaendiger/waldbesitzer/[own user name])\n",
      "[S3I]: Please enter the username:sachverstaendiger\n",
      "[S3I]: Please enter the password:········\n"
     ]
    }
   ],
   "source": [
    "if __name__ == \"__main__\":\n",
    "\n",
    "    print(\"[S3I][\" + time.strftime(\"%Y-%m-%d %H:%M:%S\", time.localtime()) + \"]: DEMO Wheel loader (service call), please log in! (Sachverstaendiger/waldbesitzer/[own user name])\")\n",
    "\n",
    "    username = input('[S3I]: Please enter the username:')\n",
    "    password = getpass.getpass('[S3I]: Please enter the password:')"
   ]
  },
  {
   "cell_type": "code",
   "execution_count": 3,
   "metadata": {
    "hideCode": true,
    "hidePrompt": true
   },
   "outputs": [
    {
     "name": "stdout",
     "output_type": "stream",
     "text": [
      "[S3I][2020-05-21 12:15:32]: Username and password are sent to S3I IdentityProvider.\n",
      "[S3I][2020-05-21 12:15:32]: Token received and sachverstaendiger logged in.\n"
     ]
    }
   ],
   "source": [
    "    print(\"[S3I][\" + time.strftime(\"%Y-%m-%d %H:%M:%S\", time.localtime()\n",
    "                                   ) + \"]: Username and password are sent to S3I IdentityProvider.\")\n",
    "    s3i_identity_provider = IdentityProvider(grant_type='password', identity_provider_url=\"https://idp.s3i.vswf.dev/\", realm='KWH',\n",
    "                                             client_id=\"s3i:6f58e045-fd30-496d-b519-a0b966f1ab01\", client_secret=\"475431fd-2c6d-4cae-bdfa-87226fff0cef\", username=username, password=password)\n",
    "    access_token = s3i_identity_provider.get_token(TokenType.ACCESS_TOKEN)\n",
    "\n",
    "    ''' decode the access token\n",
    "    '''\n",
    "    parsed_username = jwt.decode(access_token, verify=False)[\n",
    "        \"preferred_username\"]\n",
    "\n",
    "    print(\"[S3I][\" + time.strftime(\"%Y-%m-%d %H:%M:%S\",\n",
    "                                   time.localtime()) + \"]: Token received and \" + parsed_username + \" logged in.\")\n",
    "    "
   ]
  },
  {
   "cell_type": "markdown",
   "metadata": {},
   "source": [
    "After the token has been received, it can be used to query the endpoint of the wheel loader. To query the wheel loader in the S³I Directory, you must have the rights to view the wheel loader. With the creation of your S³I account you should have got this right. In case of problems please contact the S³I team (s3i@kwh40.de)."
   ]
  },
  {
   "cell_type": "code",
   "execution_count": null,
   "metadata": {
    "hideCode": true,
    "hidePrompt": true
   },
   "outputs": [
    {
     "name": "stdout",
     "output_type": "stream",
     "text": [
      "[S3I][2020-05-21 12:15:32]: Authentication with Token in S3I Directory successful\n",
      "[S3I][2020-05-21 12:15:32]: Prepare the service request.\n",
      "[S3I][2020-05-21 12:15:32]: Authentication with access token at S3I Broker\n",
      "[S3I][2020-05-21 12:15:32]: Sending the service request \n",
      "[S3I][2020-05-21 12:15:32]: Wait for the service reply...\n"
     ]
    }
   ],
   "source": [
    "    ''' authentication with JWT in S3I Directory \n",
    "    '''\n",
    "\n",
    "    s3i_directory = Directory(\n",
    "        s3i_dir_url=\"https://dir.s3i.vswf.dev/api/2/\", token=access_token)\n",
    "\n",
    "    print(\"[S3I][\" + time.strftime(\"%Y-%m-%d %H:%M:%S\", time.localtime()\n",
    "                                   ) + \"]: Authentication with Token in S3I Directory successful\")\n",
    "    \n",
    "    ''' query the sender's endpoint\n",
    "    '''\n",
    "    sender_endpoint = s3i_directory.queryThingIDBased(ID+\"/attributes/defaultEndpoints\")[0]\n",
    "    \n",
    "    ''' query the wheel loaders's Id and endpoint\n",
    "    '''\n",
    "    wheelloaderID = s3i_directory.queryAttributeBased(\n",
    "        \"name\", \"wheelloader\")[0][\"thingId\"]\n",
    "\n",
    "    wheelloaderServiceEndpoint = s3i_directory.queryEndpointService(\n",
    "        wheelloaderID, SERVICETYPE)\n",
    "\n",
    "    receivers = [wheelloaderID]\n",
    "    receiver_endpoints = wheelloaderServiceEndpoint\n",
    "\n",
    "    print(\"[S3I][\" + time.strftime(\"%Y-%m-%d %H:%M:%S\",\n",
    "                                   time.localtime()) + \"]: Prepare the service request.\")\n",
    "\n",
    "    parameters = dict()\n",
    "    msg_uuid = \"s3i:\" + str(uuid.uuid4())\n",
    "\n",
    "    '''\n",
    "    create service request\n",
    "    '''\n",
    "    servReq = ServiceRequest()\n",
    "    servReq.fillServiceRequest(senderUUID=ID, receiverUUID=receivers, sender_endpoint=sender_endpoint,\n",
    "                               serviceType=SERVICETYPE, parameters=parameters, msgUUID=msg_uuid)\n",
    "    \n",
    "    print(\"[S3I][\" + time.strftime(\"%Y-%m-%d %H:%M:%S\", time.localtime()\n",
    "                                   ) + \"]: Authentication with access token at S3I Broker\")\n",
    "\n",
    "    demo_sachverstaendiger_app = Broker(\n",
    "        auth_form='Username/Password', username=\" \", password=access_token, host=\"rabbitmq.s3i.vswf.dev\")\n",
    "    \n",
    "    '''\n",
    "    send the service request message\n",
    "    '''\n",
    "\n",
    "    print(\"[S3I][\" + time.strftime(\"%Y-%m-%d %H:%M:%S\",\n",
    "                                   time.localtime()) + \"]: Sending the service request \")\n",
    "    demo_sachverstaendiger_app.send(\n",
    "        receiver_endpoints=receiver_endpoints, msg=servReq.msg.__str__())\n",
    "\n",
    "    print(\"[S3I][\" + time.strftime(\"%Y-%m-%d %H:%M:%S\",\n",
    "                                   time.localtime()) + \"]: Wait for the service reply...\")\n",
    "    demo_sachverstaendiger_app.receive(\n",
    "        queue=sender_endpoint, callback=callback)"
   ]
  }
 ],
 "metadata": {
  "file_extension": ".py",
  "kernelspec": {
   "display_name": "Python 3.7.3 32-bit ('jupyter': virtualenv)",
   "language": "python",
   "name": "python37332bitjupytervirtualenv4f42e6dc07bb497395a4f5b6edb2161c"
  },
  "language_info": {
   "codemirror_mode": {
    "name": "ipython",
    "version": 3
   },
   "file_extension": ".py",
   "mimetype": "text/x-python",
   "name": "python",
   "nbconvert_exporter": "python",
   "pygments_lexer": "ipython3",
   "version": "3.7.3"
  },
  "mimetype": "text/x-python",
  "name": "python",
  "npconvert_exporter": "python",
  "pygments_lexer": "ipython3",
  "version": 3
 },
 "nbformat": 4,
 "nbformat_minor": 2
}