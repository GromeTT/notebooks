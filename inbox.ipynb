{
 "cells": [
  {
   "cell_type": "markdown",
   "metadata": {},
   "source": [
    "# INBOX\n",
    "\n",
    "See all incoming messages here"
   ]
  },
  {
   "cell_type": "code",
   "execution_count": 20,
   "metadata": {
    "colab": {},
    "colab_type": "code",
    "id": "MSHD4Gudr0ZB"
   },
   "outputs": [],
   "source": [
    "#from s3i import IdentityProvider, Broker, UserMessage, TokenType, Key, Directory\n",
    "import s3i\n",
    "import time \n",
    "import base64 \n",
    "import getpass\n",
    "import receiver\n",
    "import pykka"
   ]
  },
  {
   "cell_type": "code",
   "execution_count": 21,
   "metadata": {
    "colab": {},
    "colab_type": "code",
    "id": "6BbgbOqhwszW"
   },
   "outputs": [],
   "source": [
    "USERNAME = \"gebhard_workshop\" #None\n",
    "PASSWORD = \"baum\" #getpass.getpass('[S3I]: Please enter your password:')"
   ]
  },
  {
   "cell_type": "code",
   "execution_count": 22,
   "metadata": {
    "colab": {},
    "colab_type": "code",
    "id": "H7PsFQvcwv54"
   },
   "outputs": [],
   "source": [
    "CLIENT = \"s3i:a3afa256-b80c-4a6d-bd9c-786887c8ce4a\" #e35c798a-cc47-4a32-955f-db52e9e7f57a\" #\"s3i:0a884197-1314-440b-920a-f1c63b46201d\" #None\n",
    "SECRET = \"e35c798a-cc47-4a32-955f-db52e9e7f57a\" #getpass.getpass('[S3I]: Please enter the secret:') "
   ]
  },
  {
   "cell_type": "code",
   "execution_count": 23,
   "metadata": {
    "colab": {},
    "colab_type": "code",
    "id": "kZNzU5m8w2Oo"
   },
   "outputs": [],
   "source": [
    "IDP = s3i.IdentityProvider(grant_type='password', identity_provider_url=\"https://idp.s3i.vswf.dev/\", realm='KWH',\n",
    "                                             client_id=CLIENT, client_secret=SECRET, username=USERNAME, password=PASSWORD)"
   ]
  },
  {
   "cell_type": "code",
   "execution_count": 24,
   "metadata": {},
   "outputs": [],
   "source": [
    "ENDPOINT = \"s3ibs://\"+CLIENT #input(\"[S3I]: Please enter the endpoint for this inbox:\")"
   ]
  },
  {
   "cell_type": "code",
   "execution_count": 25,
   "metadata": {},
   "outputs": [],
   "source": [
    "class MessageEncryptor(pykka.ThreadingActor):\n",
    "       \n",
    "    def callback(self, pgp_message):\n",
    "        print(\"[S3I][\" + time.strftime(\"%Y-%m-%d %H:%M:%S\",\n",
    "                                   time.localtime()) + \"]: A new message has been received\")\n",
    "        message_str = pgp_message.replace(\"\\\\n\", \"\\n\").strip('\"') \n",
    "        uMsg = s3i.UserMessage(msg_blob=message_str)\n",
    "    \n",
    "        access_token = IDP.get_token(s3i.TokenType.ACCESS_TOKEN)\n",
    "        dir = s3i.Directory(s3i_dir_url=\"https://dir.s3i.vswf.dev/api/2/\", token=access_token)\n",
    "        \"\"\"Decrypt the message and verify the signature\n",
    "        \"\"\"\n",
    "        if uMsg.pgpMsg.is_encrypted:\n",
    "            sec_key = s3i.Key(path_demo_dir=\"key/\", filename=\"secKey.asc\")\n",
    "            uMsg.decryptAndVerify(sec_key, \"\", dir)\n",
    "            #uMsg.decrypt(sec_key.key)\n",
    "            uMsg.convertPgpToMsg()\n",
    "\n",
    "        print(\"[S3I][\" + time.strftime(\"%Y-%m-%d %H:%M:%S\",\n",
    "                                   time.localtime()) + \"]: Subject of the message: \" + uMsg.msg[\"subject\"])\n",
    "        print(\"[S3I][\" + time.strftime(\"%Y-%m-%d %H:%M:%S\",\n",
    "                                   time.localtime()) + \"]: Text of the message:  \" + uMsg.msg[\"text\"])\n",
    "        print(\"[S3I][\" + time.strftime(\"%Y-%m-%d %H:%M:%S\",\n",
    "                                   time.localtime()) + \"]: Sender of the message:  :\", dir.queryThingIDBased(uMsg.msg[\"sender\"]+\"/attributes/name\"))\n",
    "\n",
    "        attachments_list = uMsg.msg[\"attachments\"]\n",
    "        \"\"\"\n",
    "        store the attachment file in specified path\n",
    "        \"\"\"\n",
    "        for attachment in attachments_list:\n",
    "            with open(\"received_data/\"+attachment[\"filename\"], 'wb') as file:\n",
    "                decode = base64.b64decode(attachment[\"data\"])\n",
    "                file.write(decode)\n",
    "                print(\"[S3I]: Attachment \" + attachment[\"filename\"]\n",
    "                   + \" of the message is stored in received_data\")\n",
    "                            \n",
    "        print(\"==============================================================================\")\n",
    "\n",
    "                            \n",
    "messageEncryptor = MessageEncryptor.start().proxy()"
   ]
  },
  {
   "cell_type": "code",
   "execution_count": 26,
   "metadata": {},
   "outputs": [
    {
     "data": {
      "text/plain": [
       "<pykka._threading.ThreadingFuture at 0x646b530>"
      ]
     },
     "execution_count": 26,
     "metadata": {},
     "output_type": "execute_result"
    },
    {
     "name": "stdout",
     "output_type": "stream",
     "text": [
      "[S3I][2020-05-23 17:02:18]: A new message has been received\n",
      "[S3I][2020-05-23 17:02:19]: The signature is valid.\n",
      "[S3I][2020-05-23 17:02:19]: Decryption successful\n",
      "[S3I][2020-05-23 17:02:19]: Subject of the message: tester\n",
      "[S3I][2020-05-23 17:02:19]: Text of the message:  testertester\n",
      "[S3I][2020-05-23 17:02:19]: Sender of the message:  : DT of gebhard_workshop\n",
      "==============================================================================\n"
     ]
    }
   ],
   "source": [
    "receiver = receiver.Receiver.start(ENDPOINT,IDP,messageEncryptor).proxy()\n",
    "receiver.start_receiving()"
   ]
  },
  {
   "cell_type": "code",
   "execution_count": null,
   "metadata": {},
   "outputs": [],
   "source": []
  }
 ],
 "metadata": {
  "colab": {
   "collapsed_sections": [],
   "name": "Inbox.ipynb",
   "provenance": [
    {
     "file_id": "https://github.com/lenekaethe/workshop/blob/master/inbox.ipynb",
     "timestamp": 1589874206815
    }
   ]
  },
  "kernelspec": {
   "display_name": "Python 3",
   "language": "python",
   "name": "python3"
  },
  "language_info": {
   "codemirror_mode": {
    "name": "ipython",
    "version": 3
   },
   "file_extension": ".py",
   "mimetype": "text/x-python",
   "name": "python",
   "nbconvert_exporter": "python",
   "pygments_lexer": "ipython3",
   "version": "3.7.3"
  },
  "varInspector": {
   "cols": {
    "lenName": 16,
    "lenType": 16,
    "lenVar": 40
   },
   "kernels_config": {
    "python": {
     "delete_cmd_postfix": "",
     "delete_cmd_prefix": "del ",
     "library": "var_list.py",
     "varRefreshCmd": "print(var_dic_list())"
    },
    "r": {
     "delete_cmd_postfix": ") ",
     "delete_cmd_prefix": "rm(",
     "library": "var_list.r",
     "varRefreshCmd": "cat(var_dic_list()) "
    }
   },
   "types_to_exclude": [
    "module",
    "function",
    "builtin_function_or_method",
    "instance",
    "_Feature"
   ],
   "window_display": false
  }
 },
 "nbformat": 4,
 "nbformat_minor": 1
}
