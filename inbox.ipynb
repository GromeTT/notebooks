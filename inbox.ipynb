{
 "cells": [
  {
   "cell_type": "markdown",
   "metadata": {},
   "source": [
    "# INBOX\n",
    "\n",
    "See all incoming messages in this notebook. Everyone can log in with their access data and assign this notebook to their HMI. To do this, simply enter your own HMI with the corresponding secret as the client in this script. Running this notebook, you will authorize your HMI to call up the wheel loader's location. \n",
    "Just go to the **Cell** drop-down menu and use the **Run All** button.\n",
    "\n",
    "First, all necessary modules are imported into the script, including the S³I library."
   ]
  },
  {
   "cell_type": "code",
   "execution_count": null,
   "metadata": {
    "colab": {},
    "colab_type": "code",
    "id": "MSHD4Gudr0ZB"
   },
   "outputs": [],
   "source": [
    "import s3i\n",
    "import time \n",
    "import base64 \n",
    "import getpass\n",
    "import receiver\n",
    "import pykka\n",
    "import jwt\n",
    "import json\n",
    "import logging\n",
    "logging.basicConfig(level=logging.ERROR)"
   ]
  },
  {
   "cell_type": "markdown",
   "metadata": {},
   "source": [
    "This Notebook acts as a client in terms of the S³I. In order to use the S³I this notebook needs a client id and the respective secret. You can assign this notebook to your personal HMI, to make this notebook your HMI. Therefore enter the id and the secret of your HMI in the following input fields."
   ]
  },
  {
   "cell_type": "code",
   "execution_count": null,
   "metadata": {
    "colab": {},
    "colab_type": "code",
    "id": "H7PsFQvcwv54"
   },
   "outputs": [],
   "source": [
    "clientId = input('[S3I]: Please enter the client id:')\n",
    "clientSecret = getpass.getpass('[S3I]: Please enter the secret:')\n",
    "print(\"[S3I][\" + time.strftime(\"%Y-%m-%d %H:%M:%S\", time.localtime()) +\n",
    "          \"]: Client id and secret are set\")"
   ]
  },
  {
   "cell_type": "markdown",
   "metadata": {},
   "source": [
    "Next, you have to enter your username and password. With your access data a token is requested which authorizes this client (your HMI) to call up the wheel loader's location on your behalf."
   ]
  },
  {
   "cell_type": "code",
   "execution_count": null,
   "metadata": {
    "colab": {},
    "colab_type": "code",
    "id": "6BbgbOqhwszW"
   },
   "outputs": [],
   "source": [
    "print(\"[S3I][\" + time.strftime(\"%Y-%m-%d %H:%M:%S\", time.localtime()) +\n",
    "          \"]: DEMO Wheel loader (service call), please log in! (sachverstaendiger)\")\n",
    "username = input('[S3I]: Please enter your username:')\n",
    "password = getpass.getpass('[S3I]: Please enter the password:')\n",
    "print(\"[S3I][\" + time.strftime(\"%Y-%m-%d %H:%M:%S\", time.localtime()\n",
    "                                   ) + \"]: Your credentials are sent to S3I IdentityProvider.\")\n",
    "s3i_identity_provider = s3i.IdentityProvider(grant_type='password', identity_provider_url=\"https://idp.s3i.vswf.dev/\", realm='KWH',\n",
    "                                         client_id=clientId, client_secret=clientSecret, username=username, password=password)\n",
    "access_token = s3i_identity_provider.get_token(s3i.TokenType.ACCESS_TOKEN, scope=\"\")\n",
    "\n",
    "''' decode the access token\n",
    "'''\n",
    "parsed_username = jwt.decode(access_token, verify=False)[\n",
    "    \"preferred_username\"]\n",
    "\n",
    "print(\"[S3I][\" + time.strftime(\"%Y-%m-%d %H:%M:%S\",\n",
    "                               time.localtime()) + \"]: Token received \" + parsed_username + \" logged in.\")"
   ]
  },
  {
   "cell_type": "code",
   "execution_count": null,
   "metadata": {},
   "outputs": [],
   "source": [
    "class MessageDecryptor(pykka.ThreadingActor):\n",
    "       \n",
    "    def callback(self, pgp_message):\n",
    "        print(\"[S3I][\" + time.strftime(\"%Y-%m-%d %H:%M:%S\",\n",
    "                                   time.localtime()) + \"]: A new message has been received\")\n",
    "        message_str = pgp_message.replace(\"\\\\n\", \"\\n\").strip('\"') \n",
    "        uMsg = s3i.UserMessage(msg_blob=message_str)\n",
    "    \n",
    "        access_token = s3i_identity_provider.get_token(s3i.TokenType.ACCESS_TOKEN)\n",
    "        dir = s3i.Directory(s3i_dir_url=\"https://dir.s3i.vswf.dev/api/2/\", token=access_token)\n",
    "        \"\"\"Decrypt the message and verify the signature\n",
    "        \"\"\"\n",
    "        if uMsg.pgpMsg.is_encrypted:\n",
    "            sec_key = s3i.Key(path_demo_dir=\"key/\", filename=\"secKey.asc\")\n",
    "            uMsg.decryptAndVerify(sec_key, \"\", dir)\n",
    "            #uMsg.decrypt(sec_key.key)\n",
    "            uMsg.convertPgpToMsg()\n",
    "\n",
    "        print(\"[S3I][\" + time.strftime(\"%Y-%m-%d %H:%M:%S\",\n",
    "                                   time.localtime()) + \"]: Subject of the message: \" + uMsg.msg[\"subject\"])\n",
    "        print(\"[S3I][\" + time.strftime(\"%Y-%m-%d %H:%M:%S\",\n",
    "                                   time.localtime()) + \"]: Text of the message:  \" + uMsg.msg[\"text\"])\n",
    "        print(\"[S3I][\" + time.strftime(\"%Y-%m-%d %H:%M:%S\",\n",
    "                                   time.localtime()) + \"]: Sender of the message:  :\", dir.queryThingIDBased(uMsg.msg[\"sender\"]+\"/attributes/name\"))\n",
    "\n",
    "        attachments_list = uMsg.msg[\"attachments\"]\n",
    "        \"\"\"\n",
    "        store the attachment file in specified path\n",
    "        \"\"\"\n",
    "        for attachment in attachments_list:\n",
    "            with open(\"received_data/\"+attachment[\"filename\"], 'wb') as file:\n",
    "                decode = base64.b64decode(attachment[\"data\"])\n",
    "                file.write(decode)\n",
    "                print(\"[S3I]: Attachment \" + attachment[\"filename\"]\n",
    "                   + \" of the message is stored in received_data\")\n",
    "                            \n",
    "        print(\"==============================================================================\")\n",
    "\n",
    "                            \n",
    "messageDecryptor = MessageDecryptor.start().proxy()"
   ]
  },
  {
   "cell_type": "code",
   "execution_count": null,
   "metadata": {},
   "outputs": [],
   "source": [
    "s3i_receiver = receiver.Receiver.start(\"s3ibs://\"+clientId,s3i_identity_provider,messageDecryptor).proxy()\n",
    "s3i_receiver.start_receiving()"
   ]
  },
  {
   "cell_type": "code",
   "execution_count": null,
   "metadata": {},
   "outputs": [],
   "source": []
  }
 ],
 "metadata": {
  "colab": {
   "collapsed_sections": [],
   "name": "Inbox.ipynb",
   "provenance": [
    {
     "file_id": "https://github.com/lenekaethe/workshop/blob/master/inbox.ipynb",
     "timestamp": 1589874206815
    }
   ]
  },
  "kernelspec": {
   "display_name": "Python 3",
   "language": "python",
   "name": "python3"
  },
  "language_info": {
   "codemirror_mode": {
    "name": "ipython",
    "version": 3
   },
   "file_extension": ".py",
   "mimetype": "text/x-python",
   "name": "python",
   "nbconvert_exporter": "python",
   "pygments_lexer": "ipython3",
   "version": "3.7.3"
  },
  "varInspector": {
   "cols": {
    "lenName": 16,
    "lenType": 16,
    "lenVar": 40
   },
   "kernels_config": {
    "python": {
     "delete_cmd_postfix": "",
     "delete_cmd_prefix": "del ",
     "library": "var_list.py",
     "varRefreshCmd": "print(var_dic_list())"
    },
    "r": {
     "delete_cmd_postfix": ") ",
     "delete_cmd_prefix": "rm(",
     "library": "var_list.r",
     "varRefreshCmd": "cat(var_dic_list()) "
    }
   },
   "types_to_exclude": [
    "module",
    "function",
    "builtin_function_or_method",
    "instance",
    "_Feature"
   ],
   "window_display": false
  }
 },
 "nbformat": 4,
 "nbformat_minor": 1
}