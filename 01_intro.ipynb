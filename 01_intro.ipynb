{
 "cells": [
  {
   "cell_type": "markdown",
   "metadata": {},
   "source": [
    "# Welcome to the S3I Workshop\n",
    "\n",
    "This small python example is going to calculate the sum of two numbers which are provided by your input.\n",
    "In order to execute the programm click the **run** button in the toolbar above twice. Alternatively you can use the shortcut **SHIFT** + **RETURN**."
   ]
  },
  {
   "cell_type": "code",
   "execution_count": 6,
   "metadata": {},
   "outputs": [
    {
     "name": "stdout",
     "output_type": "stream",
     "text": [
      "Please enter a number:12\n",
      "Please enter a second number:12\n",
      "Output: 12+12=24\n"
     ]
    }
   ],
   "source": [
    "a = int(input(\"Please enter a number:\"))\n",
    "b = int(input(\"Please enter a second number:\"))\n",
    "sum = a + b\n",
    "print(f\"Output: {a}+{b}={sum}\")"
   ]
  }
 ],
 "metadata": {
  "kernelspec": {
   "display_name": "Python 3",
   "language": "python",
   "name": "python3"
  },
  "language_info": {
   "codemirror_mode": {
    "name": "ipython",
    "version": 3
   },
   "file_extension": ".py",
   "mimetype": "text/x-python",
   "name": "python",
   "nbconvert_exporter": "python",
   "pygments_lexer": "ipython3",
   "version": "3.7.0"
  }
 },
 "nbformat": 4,
 "nbformat_minor": 4
}
