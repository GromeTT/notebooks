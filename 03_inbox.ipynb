{
 "cells": [
  {
   "cell_type": "markdown",
   "metadata": {},
   "source": [
    "# INBOX\n",
    "\n",
    "See all incoming messages in this notebook. This Notebook acts as an **HMI** in terms of the S³I and a **client** in terms of OAuth authentication. Enter the id of your HMI with the corresponding secret as *hmi* in this script to make this notebook to your HMI. Running this notebook, you will authorize your HMI to receive messages on your behalf. \n",
    "Just go to the **Cell** drop-down menu and use the **Run All** button.\n",
    "\n",
    "First, all necessary modules are imported into the script, including the S³I library."
   ]
  },
  {
   "cell_type": "code",
   "execution_count": null,
   "metadata": {
    "colab": {},
    "colab_type": "code",
    "id": "MSHD4Gudr0ZB"
   },
   "outputs": [],
   "source": [
    "import s3i\n",
    "import time \n",
    "import base64 \n",
    "import getpass\n",
    "import jwt\n",
    "import json\n",
    "import requests\n",
    "from tools import print_with_timestamp, check_message_encryption"
   ]
  },
  {
   "cell_type": "markdown",
   "metadata": {},
   "source": [
    "In order to use the S³I this notebook needs a client id and the respective secret. You can assign this notebook to your personal HMI, to make this notebook your HMI. Therefore enter the id and the secret of your HMI in the following input fields."
   ]
  },
  {
   "cell_type": "code",
   "execution_count": null,
   "metadata": {},
   "outputs": [],
   "source": [
    "data = input(\"Json Data:\")\n",
    "data_json= json.loads(data)\n",
    "hmiSecret = data_json[\"hmiSecret\"]\n",
    "hmiId = data_json[\"hmi\"]\n",
    "username = data_json[\"username\"]\n",
    "password = data_json[\"pw\"]\n",
    "key = data_json[\"Key\"]"
   ]
  },
  {
   "cell_type": "code",
   "execution_count": null,
   "metadata": {
    "colab": {},
    "colab_type": "code",
    "id": "H7PsFQvcwv54"
   },
   "outputs": [],
   "source": [
    "#hmiId = input('[S3I]: Please enter your HMI id:')\n",
    "#hmiSecret = getpass.getpass('[S3I]: Please enter the secret:')\n",
    "#print_with_timestamp(\"Client id and secret are set\")"
   ]
  },
  {
   "cell_type": "markdown",
   "metadata": {},
   "source": [
    "Next, you have to enter your username and password. With your access data a token is requested which authorizes this client (your HMI) to call up the wheel loader's location on your behalf."
   ]
  },
  {
   "cell_type": "code",
   "execution_count": null,
   "metadata": {
    "colab": {},
    "colab_type": "code",
    "id": "6BbgbOqhwszW"
   },
   "outputs": [],
   "source": [
    "#print_with_timestamp(\"Workshop Inbox, please log in!\")\n",
    "#username = input('[S3I]: Please enter your username:')\n",
    "#password = getpass.getpass('[S3I]: Please enter the password:')\n",
    "#print_with_timestamp(\"Your credentials are sent to S3I IdentityProvider.\")\n",
    "s3i_identity_provider = s3i.IdentityProvider(grant_type='password',\n",
    "                                             identity_provider_url=\"https://idp.s3i.vswf.dev/\",\n",
    "                                             realm='KWH',\n",
    "                                             client_id=hmiId,\n",
    "                                             client_secret=hmiSecret,\n",
    "                                             username=username,\n",
    "                                             password=password)\n",
    "access_token = s3i_identity_provider.get_token(s3i.TokenType.ACCESS_TOKEN)\n",
    "\n",
    "''' decode the access token\n",
    "'''\n",
    "parsed_username = jwt.decode(access_token, verify=False)[\n",
    "    \"preferred_username\"]\n",
    "\n",
    "print_with_timestamp(\"Token received \" + parsed_username + \" logged in\")"
   ]
  },
  {
   "cell_type": "markdown",
   "metadata": {},
   "source": [
    "In order to receive encrypted messages, you have to insert your personal key. The public key part of this key is available in the S³I directory. Participants, who want to send encrypted messages to you, encrypt their message with your public key. "
   ]
  },
  {
   "cell_type": "code",
   "execution_count": null,
   "metadata": {},
   "outputs": [],
   "source": [
    "#key = input('[S3I]: Please enter your key:')\n",
    "access_token = s3i_identity_provider.get_token(s3i.TokenType.ACCESS_TOKEN)\n",
    "dir = s3i.Directory(s3i_dir_url=\"https://dir.s3i.vswf.dev/api/2/\", token=access_token)\n",
    "personalKey = s3i.Key(key_str=key)\n",
    "print_with_timestamp(\"The personal key of this hmi\" + hmiId + \"is set.\")"
   ]
  },
  {
   "cell_type": "code",
   "execution_count": null,
   "metadata": {},
   "outputs": [],
   "source": [
    "def receive(endpoint):\n",
    "    access_token = s3i_identity_provider.get_token(s3i.TokenType.ACCESS_TOKEN, scope=\"rabbitmq.read:*/*/*\")\n",
    "    headers = {'Content-Type': 'application/pgp-encrypted',\n",
    "               'Authorization': 'Bearer ' + access_token}\n",
    "    response = requests.get(\n",
    "        url=\"https://broker.s3i.vswf.dev/\"+endpoint, headers=headers)\n",
    "    return(response.text)"
   ]
  },
  {
   "cell_type": "code",
   "execution_count": null,
   "metadata": {},
   "outputs": [],
   "source": [
    "def pgp_callback(pgp_message):\n",
    "    message_str = pgp_message.replace(\"\\\\n\", \"\\n\").strip('\"') \n",
    "    uMsg = s3i.UserMessage(msg_blob=message_str)\n",
    "\n",
    "    access_token = s3i_identity_provider.get_token(s3i.TokenType.ACCESS_TOKEN)\n",
    "    dir = s3i.Directory(s3i_dir_url=\"https://dir.s3i.vswf.dev/api/2/\", token=access_token)\n",
    "    \"\"\"Decrypt the message and verify the signature\n",
    "    \"\"\"\n",
    "    if uMsg.pgpMsg.is_encrypted:\n",
    "        uMsg.decryptAndVerify(personalKey, \"\", dir)\n",
    "        #uMsg.decrypt(sec_key.key)\n",
    "        uMsg.convertPgpToMsg()\n",
    "    \n",
    "    print_message(uMsg)"
   ]
  },
  {
   "cell_type": "code",
   "execution_count": null,
   "metadata": {},
   "outputs": [],
   "source": [
    "def msg_callback(message):\n",
    "    message_str = message.replace(\"'\", '\"')  # convert bytes to str\n",
    "    uMsg = s3i.UserMessage(json_in=message_str)\n",
    "    print_message(uMsg)"
   ]
  },
  {
   "cell_type": "code",
   "execution_count": null,
   "metadata": {},
   "outputs": [],
   "source": [
    "def error_callback(message):\n",
    "    print(\"The server returned:\", message)\n",
    "    print(\"==============================================================================\")"
   ]
  },
  {
   "cell_type": "code",
   "execution_count": null,
   "metadata": {},
   "outputs": [],
   "source": [
    "def print_message(uMsg):\n",
    "    print_with_timestamp(\"Subject of the message: \" + uMsg.msg[\"subject\"])\n",
    "    print_with_timestamp(\"Text of the message:  \" + uMsg.msg[\"text\"])\n",
    "    print_with_timestamp(\"Sender of the message: \" + dir.queryThingIDBased(uMsg.msg[\"sender\"]+\"/attributes/name\"))\n",
    "    \n",
    "    attachments_list = uMsg.msg[\"attachments\"]\n",
    "    \"\"\"\n",
    "    store the attachment file in specified path\n",
    "    \"\"\"\n",
    "    for attachment in attachments_list:\n",
    "        with open(\"received_data/\"+attachment[\"filename\"], 'wb') as file:\n",
    "            decode = base64.b64decode(attachment[\"data\"])\n",
    "            file.write(decode)\n",
    "            print(\"[S3I]: Attachment \" + attachment[\"filename\"]\n",
    "               + \" of the message is stored in received_data\")\n",
    "                        \n",
    "    print(\"==============================================================================\")"
   ]
  },
  {
   "cell_type": "code",
   "execution_count": null,
   "metadata": {},
   "outputs": [],
   "source": [
    "def callback(message):\n",
    "    switcher = {\n",
    "        \"pgp\": pgp_callback,\n",
    "        \"error\": error_callback,\n",
    "        \"msg\": msg_callback\n",
    "    }\n",
    "    switcher.get(check_message_encryption(message), error_callback)(message)\n",
    "\n",
    "    \"\"\"print(\"[S3I][\" + time.strftime(\"%Y-%m-%d %H:%M:%S\",\n",
    "                               time.localtime()) + \"]: A new message has been received\")\n",
    "    message_str = message.replace(\"\\\\n\", \"\\n\").strip('\"') \n",
    "    uMsg = s3i.UserMessage(msg_blob=message_str)\n",
    "\n",
    "    access_token = s3i_identity_provider.get_token(s3i.TokenType.ACCESS_TOKEN)\n",
    "    dir = s3i.Directory(s3i_dir_url=\"https://dir.s3i.vswf.dev/api/2/\", token=access_token)\n",
    "    \"\"\"\n",
    "    #Decrypt the message and verify the signature\n",
    "    \"\"\"\n",
    "    if uMsg.pgpMsg.is_encrypted:\n",
    "        uMsg.decryptAndVerify(personalKey, \"\", dir)\n",
    "        #uMsg.decrypt(sec_key.key)\n",
    "        uMsg.convertPgpToMsg()\n",
    "\n",
    "    print_with_timestamp(\"Subject of the message: \" + uMsg.msg[\"subject\"])\n",
    "    print_with_timestamp(\"Text of the message:  \" + uMsg.msg[\"text\"])\n",
    "    print_with_timestamp(\"Sender of the message: \" + dir.queryThingIDBased(uMsg.msg[\"sender\"]+\"/attributes/name\"))\n",
    "    \n",
    "    attachments_list = uMsg.msg[\"attachments\"]\n",
    "    \"\"\"\n",
    "    #store the attachment file in specified path\n",
    "    \"\"\"\n",
    "    for attachment in attachments_list:\n",
    "        with open(\"received_data/\"+attachment[\"filename\"], 'wb') as file:\n",
    "            decode = base64.b64decode(attachment[\"data\"])\n",
    "            file.write(decode)\n",
    "            print(\"[S3I]: Attachment \" + attachment[\"filename\"]\n",
    "               + \" of the message is stored in received_data\")\n",
    "                        \n",
    "    print(\"==============================================================================\")\"\"\""
   ]
  },
  {
   "cell_type": "code",
   "execution_count": null,
   "metadata": {},
   "outputs": [],
   "source": [
    "endpoint = \"s3ibs://\"+hmiId\n",
    "print(\"[S3I]: Start receiving messages as\", endpoint)\n",
    "while True:\n",
    "    incomingMessage = receive(endpoint)\n",
    "    if not(len(incomingMessage) == 0):\n",
    "        callback(incomingMessage)\n",
    "    else:\n",
    "        time.sleep(2)"
   ]
  }
 ],
 "metadata": {
  "colab": {
   "collapsed_sections": [],
   "name": "Inbox.ipynb",
   "provenance": [
    {
     "file_id": "https://github.com/lenekaethe/workshop/blob/master/inbox.ipynb",
     "timestamp": 1589874206815
    }
   ]
  },
  "kernelspec": {
   "display_name": "Python 3",
   "language": "python",
   "name": "python3"
  },
  "language_info": {
   "codemirror_mode": {
    "name": "ipython",
    "version": 3
   },
   "file_extension": ".py",
   "mimetype": "text/x-python",
   "name": "python",
   "nbconvert_exporter": "python",
   "pygments_lexer": "ipython3",
   "version": "3.7.3-final"
  },
  "varInspector": {
   "cols": {
    "lenName": 16,
    "lenType": 16,
    "lenVar": 40
   },
   "kernels_config": {
    "python": {
     "delete_cmd_postfix": "",
     "delete_cmd_prefix": "del ",
     "library": "var_list.py",
     "varRefreshCmd": "print(var_dic_list())"
    },
    "r": {
     "delete_cmd_postfix": ") ",
     "delete_cmd_prefix": "rm(",
     "library": "var_list.r",
     "varRefreshCmd": "cat(var_dic_list()) "
    }
   },
   "types_to_exclude": [
    "module",
    "function",
    "builtin_function_or_method",
    "instance",
    "_Feature"
   ],
   "window_display": false
  }
 },
 "nbformat": 4,
 "nbformat_minor": 1
}