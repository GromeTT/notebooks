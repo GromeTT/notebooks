{
 "cells": [
  {
   "cell_type": "markdown",
   "metadata": {},
   "source": [
    "# Harvester GetValueRequest\n",
    "This is a KWH HMI which allows to request the harvester's data. This Notebook acts as an **HMI** in terms of the S³I and a **client** in terms of OAuth authentication. Enter the id of your HMI with the corresponding secret as *hmi* in this script to make this notebook to your HMI. Running this notebook, you will authorize your HMI to call up the harvester's data. \n",
    "Just go to the **Cell** drop-down menu and use the **Run All** button."
   ]
  },
  {
   "cell_type": "markdown",
   "metadata": {},
   "source": [
    "First, all necessary modules are imported into the script, including the S³I library."
   ]
  },
  {
   "cell_type": "code",
   "execution_count": 150,
   "metadata": {},
   "outputs": [],
   "source": [
    "import s3i\n",
    "import json\n",
    "import uuid\n",
    "import jwt\n",
    "import time\n",
    "import os\n",
    "import base64\n",
    "import getpass\n",
    "import requests\n",
    "import collections\n",
    "from IPython.display import Image\n",
    "from tools import print_with_timestamp, check_message_encryption, yes, no"
   ]
  },
  {
   "cell_type": "markdown",
   "metadata": {},
   "source": [
    "## Configure the notebook\n",
    "In order to use the S³I this notebook needs a client id and the respective secret. You can assign this notebook to your personal HMI, to make this notebook your HMI. Therefore enter the id and the secret of your HMI in the following input fields."
   ]
  },
  {
   "cell_type": "code",
   "execution_count": 151,
   "metadata": {},
   "outputs": [
    {
     "name": "stdout",
     "output_type": "stream",
     "text": [
      "[S3I][2020-07-28 13:46:36]: Assign a client to this notebook. (The id of your HMI)\n",
      "[S3I]: Please enter your HMI id:s3i:d974cf51-321b-4db4-b229-1e33ef640519\n",
      "[S3I]: Please enter your HMI secret:········\n",
      "[S3I][2020-07-28 13:46:48]: HMI id and secret are set\n"
     ]
    }
   ],
   "source": [
    "print_with_timestamp(\"Assign a client to this notebook. (The id of your HMI)\")\n",
    "hmiId = input('[S3I]: Please enter your HMI id:').strip(',\" ')\n",
    "hmiSecret = getpass.getpass('[S3I]: Please enter your HMI secret:').strip(',\" ')\n",
    "print_with_timestamp(\"HMI id and secret are set\")"
   ]
  },
  {
   "cell_type": "markdown",
   "metadata": {},
   "source": [
    "Next, you have to enter your username and password. With your access data a token is requested which authorizes this client (your HMI) to call up the harvester's data on your behalf."
   ]
  },
  {
   "cell_type": "code",
   "execution_count": 152,
   "metadata": {},
   "outputs": [
    {
     "name": "stdout",
     "output_type": "stream",
     "text": [
      "[S3I][2020-07-28 13:46:48]: DEMO harvester, please log in!\n",
      "[S3I]: Please enter your username:chen_workshop\n",
      "[S3I]: Please enter the password:········\n",
      "[S3I][2020-07-28 13:46:55]: Your credentials are sent to S3I IdentityProvider.\n",
      "[S3I][2020-07-28 13:46:55]: Token received, chen_workshop logged in.\n"
     ]
    }
   ],
   "source": [
    "print_with_timestamp(\"DEMO harvester, please log in!\")\n",
    "username = input('[S3I]: Please enter your username:').strip(',\" ')\n",
    "password = getpass.getpass('[S3I]: Please enter the password:')\n",
    "print_with_timestamp(\"Your credentials are sent to S3I IdentityProvider.\")\n",
    "s3i_identity_provider = s3i.IdentityProvider(grant_type='password', \n",
    "                                             identity_provider_url=\"https://idp.s3i.vswf.dev/\",\n",
    "                                             realm='KWH',\n",
    "                                             client_id=hmiId,\n",
    "                                             client_secret=hmiSecret,\n",
    "                                             username=username,\n",
    "                                             password=password)\n",
    "access_token = s3i_identity_provider.get_token(s3i.TokenType.ACCESS_TOKEN)\n",
    "\n",
    "''' decode the access token\n",
    "'''\n",
    "parsed_username = jwt.decode(access_token, verify=False)[\n",
    "    \"preferred_username\"]\n",
    "\n",
    "print_with_timestamp(\"Token received, \" + parsed_username + \" logged in.\")"
   ]
  },
  {
   "cell_type": "markdown",
   "metadata": {},
   "source": [
    "After the token has been received, it can be used to query the endpoint of the harvester. To query the harvester in the S³I Directory, you must have the rights to view the harvester. With the creation of your S³I account you should have got this right. In case of problems please contact the S³I team (s3i@kwh40.de).\n",
    "\n",
    "Besides the endpoint of the harvester, the endpoint of this HMI is also needed to add as \"ReplyToEndpoint\" field in the request. The endpoint of this HMI is also queried from the directory, as it may has changed. By querying its own endpoint from the directory, the HMI is independent of changes made to its own endpoint. These changes then only need to be listed in the directory."
   ]
  },
  {
   "cell_type": "code",
   "execution_count": 153,
   "metadata": {},
   "outputs": [
    {
     "name": "stdout",
     "output_type": "stream",
     "text": [
      "[S3I][2020-07-28 13:46:55]: Authentication with Token in S3I Directory successful\n"
     ]
    }
   ],
   "source": [
    "''' authentication with JWT in S3I Directory \n",
    "'''\n",
    "\n",
    "s3i_directory = s3i.Directory(\n",
    "    s3i_dir_url=\"https://dir.s3i.vswf.dev/api/2/\", token=access_token)\n",
    "\n",
    "print_with_timestamp(\"Authentication with Token in S3I Directory successful\")\n",
    "    \n",
    "''' query the sender's endpoint\n",
    "'''\n",
    "sender_endpoints = s3i_directory.queryThingIDBased(hmiId+\"/attributes/allEndpoints\")\n",
    "for item in sender_endpoints:\n",
    "    if \"s3i:\" in item:\n",
    "        sender_endpoint = item\n",
    "    else:\n",
    "        continue\n",
    "    \n"
   ]
  },
  {
   "cell_type": "markdown",
   "metadata": {},
   "source": [
    "## MessageId Storage\n",
    "The messageId storage stores all message ids from the messages which are send. If a message arrives it is checked against these ids, to see if it is a response to one of these messages. If it is not a response to one a request send from this notebook, the message won't be parsed."
   ]
  },
  {
   "cell_type": "code",
   "execution_count": 154,
   "metadata": {},
   "outputs": [],
   "source": [
    "messageIds = list()"
   ]
  },
  {
   "cell_type": "markdown",
   "metadata": {},
   "source": [
    "# Get Harvester S³I Directory Entry"
   ]
  },
  {
   "cell_type": "code",
   "execution_count": 155,
   "metadata": {},
   "outputs": [
    {
     "data": {
      "text/html": [
       "<img src=\"harvester_images/dir.png\", width=500, height=500>\n"
      ],
      "text/plain": [
       "<IPython.core.display.HTML object>"
      ]
     },
     "metadata": {},
     "output_type": "display_data"
    }
   ],
   "source": [
    "%%html\n",
    "<img src=\"harvester_images/dir.png\", width=500, height=500>"
   ]
  },
  {
   "cell_type": "code",
   "execution_count": 156,
   "metadata": {},
   "outputs": [
    {
     "name": "stdout",
     "output_type": "stream",
     "text": [
      "[S3I][2020-07-28 13:46:56]: {\n",
      "  \"thingId\": \"s3i:ef39a0ae-1f4a-4393-9508-ad70a4d38a63\",\n",
      "  \"policyId\": \"s3i:ef39a0ae-1f4a-4393-9508-ad70a4d38a63\",\n",
      "  \"attributes\": {\n",
      "    \"ownedBy\": \"606d8b38-4c3f-46bd-9482-86748e108f32\",\n",
      "    \"name\": \"gSFL-Harvester\",\n",
      "    \"location\": {\n",
      "      \"longitude\": 7.995628567992779,\n",
      "      \"latitude\": 51.45290905110912\n",
      "    },\n",
      "    \"type\": \"component\",\n",
      "    \"dataModel\": \"fml40\",\n",
      "    \"allEndpoints\": [\n",
      "      \"s3ib://s3i:ef39a0ae-1f4a-4393-9508-ad70a4d38a63\",\n",
      "      \"https://ditto.s3i.vswf.dev/api/2/things/s3i:ef39a0ae-1f4a-4393-9508-ad70a4d38a63\"\n",
      "    ],\n",
      "    \"thingStructure\": {\n",
      "      \"class\": \"ml40::Thing\",\n",
      "      \"links\": [\n",
      "        {\n",
      "          \"association\": \"roles\",\n",
      "          \"target\": {\n",
      "            \"class\": \"fml40::Harvester\"\n",
      "          }\n",
      "        },\n",
      "        {\n",
      "          \"association\": \"features\",\n",
      "          \"target\": {\n",
      "            \"class\": \"fml40::ProvidesProductionData\"\n",
      "          }\n",
      "        },\n",
      "        {\n",
      "          \"association\": \"features\",\n",
      "          \"target\": {\n",
      "            \"class\": \"fml40::Harvests\"\n",
      "          }\n",
      "        },\n",
      "        {\n",
      "          \"association\": \"features\",\n",
      "          \"target\": {\n",
      "            \"class\": \"fml40::AcceptsFellingJobs\"\n",
      "          }\n",
      "        },\n",
      "        {\n",
      "          \"association\": \"features\",\n",
      "          \"target\": {\n",
      "            \"class\": \"ml40::ManagesJobs\"\n",
      "          }\n",
      "        },\n",
      "        {\n",
      "          \"association\": \"features\",\n",
      "          \"target\": {\n",
      "            \"class\": \"fml40::AcceptsProximityAlert\"\n",
      "          }\n",
      "        },\n",
      "        {\n",
      "          \"association\": \"features\",\n",
      "          \"target\": {\n",
      "            \"class\": \"ml40::Location\"\n",
      "          }\n",
      "        },\n",
      "        {\n",
      "          \"association\": \"features\",\n",
      "          \"target\": {\n",
      "            \"class\": \"ml40::Dimensions\"\n",
      "          }\n",
      "        },\n",
      "        {\n",
      "          \"association\": \"features\",\n",
      "          \"target\": {\n",
      "            \"class\": \"ml40::Weight\"\n",
      "          }\n",
      "        },\n",
      "        {\n",
      "          \"association\": \"features\",\n",
      "          \"target\": {\n",
      "            \"class\": \"ml40::OperatingHours\"\n",
      "          }\n",
      "        },\n",
      "        {\n",
      "          \"association\": \"features\",\n",
      "          \"target\": {\n",
      "            \"class\": \"ml40::Composite\",\n",
      "            \"links\": [\n",
      "              {\n",
      "                \"association\": \"targets\",\n",
      "                \"target\": {\n",
      "                  \"class\": \"ml40::Thing\",\n",
      "                  \"identifier\": \"s3i:4711\",\n",
      "                  \"links\": [\n",
      "                    {\n",
      "                      \"association\": \"roles\",\n",
      "                      \"target\": {\n",
      "                        \"class\": \"ml40::Engine\"\n",
      "                      }\n",
      "                    },\n",
      "                    {\n",
      "                      \"association\": \"features\",\n",
      "                      \"target\": {\n",
      "                        \"class\": \"ml40::RotationalSpeed\"\n",
      "                      }\n",
      "                    }\n",
      "                  ]\n",
      "                }\n",
      "              },\n",
      "              {\n",
      "                \"association\": \"targets\",\n",
      "                \"target\": {\n",
      "                  \"class\": \"ml40::Thing\",\n",
      "                  \"identifier\": \"s3i:4712\",\n",
      "                  \"links\": [\n",
      "                    {\n",
      "                      \"association\": \"roles\",\n",
      "                      \"target\": {\n",
      "                        \"class\": \"ml40::Crane\"\n",
      "                      }\n",
      "                    },\n",
      "                    {\n",
      "                      \"association\": \"features\",\n",
      "                      \"target\": {\n",
      "                        \"class\": \"ml40::Shared\",\n",
      "                        \"links\": [\n",
      "                          {\n",
      "                            \"association\": \"targets\",\n",
      "                            \"target\": \"s3i:4713\"\n",
      "                          }\n",
      "                        ]\n",
      "                      }\n",
      "                    }\n",
      "                  ]\n",
      "                }\n",
      "              },\n",
      "              {\n",
      "                \"association\": \"targets\",\n",
      "                \"target\": {\n",
      "                  \"class\": \"ml40::Thing\",\n",
      "                  \"identifier\": \"s3i:4714\",\n",
      "                  \"links\": [\n",
      "                    {\n",
      "                      \"association\": \"roles\",\n",
      "                      \"target\": {\n",
      "                        \"class\": \"ml40::MachineUI\"\n",
      "                      }\n",
      "                    }\n",
      "                  ]\n",
      "                }\n",
      "              }\n",
      "            ]\n",
      "          }\n",
      "        }\n",
      "      ]\n",
      "    }\n",
      "  }\n",
      "}\n"
     ]
    }
   ],
   "source": [
    "''' query the harvesters's Id and endpoint\n",
    "'''\n",
    "harvesterID = s3i_directory.queryAttributeBased(\n",
    "    \"name\", \"gSFL-Harvester\")[0][\"thingId\"]\n",
    "\n",
    "harvesterEndpoint = s3i_directory.queryThingIDBased(harvesterID+\"/attributes/allEndpoints\")\n",
    "receivers = [harvesterID]\n",
    "receiver_endpoints = harvesterEndpoint\n",
    "\n",
    "harvesterDir = s3i_directory.queryThingIDBased(harvesterID)\n",
    "harvesterDir = json.loads(json.dumps(harvesterDir), object_pairs_hook=collections.OrderedDict)\n",
    "print_with_timestamp(json.dumps(harvesterDir, indent=2))\n"
   ]
  },
  {
   "cell_type": "code",
   "execution_count": null,
   "metadata": {},
   "outputs": [],
   "source": []
  },
  {
   "cell_type": "markdown",
   "metadata": {},
   "source": [
    "# >>> *Run All below* from here to access on the Edge Device of gSFL-Harvester\n",
    "## Prepared the request\n",
    "After querying the endpoints, the message is prepared. A *GetValueRequest* is instantiated and filled in."
   ]
  },
  {
   "cell_type": "code",
   "execution_count": 164,
   "metadata": {},
   "outputs": [
    {
     "data": {
      "text/html": [
       "<img src=\"harvester_images/edge.png\", width=500, height=500>\n"
      ],
      "text/plain": [
       "<IPython.core.display.HTML object>"
      ]
     },
     "metadata": {},
     "output_type": "display_data"
    }
   ],
   "source": [
    "%%html\n",
    "<img src=\"harvester_images/edge.png\", width=500, height=500>"
   ]
  },
  {
   "cell_type": "code",
   "execution_count": 165,
   "metadata": {},
   "outputs": [
    {
     "name": "stdout",
     "output_type": "stream",
     "text": [
      "[S3I][2020-07-28 13:48:58]: Prepare the GetValueRequest.\n",
      "[S3I]: please enter the attribute path of the value you want to receive from the harvester. Examples: \n",
      "attributes/features/ml40::Composite/targets/ml40::Engine/features/ml40::RotationalSpeed/rpm \n",
      "attributes/features/ml40::Location/longitude \n",
      "attributes/features/ml40::Location/latitude\n",
      "attributes/features/ml40::Composite/targets/ml40::Engine/features/ml40::RotationalSpeed/rpm\n",
      "[S3I][2020-07-28 13:49:03]: GetValueRequest prepared:\n",
      "{\n",
      "  \"sender\": \"s3i:d974cf51-321b-4db4-b229-1e33ef640519\",\n",
      "  \"identifier\": \"s3i:449784d1-9af8-434d-b617-d5dea5429c71\",\n",
      "  \"receivers\": [\n",
      "    \"s3i:ef39a0ae-1f4a-4393-9508-ad70a4d38a63\"\n",
      "  ],\n",
      "  \"messageType\": \"getValueRequest\",\n",
      "  \"replyToEndpoint\": \"s3ib://s3i:d974cf51-321b-4db4-b229-1e33ef640519\",\n",
      "  \"attributePath\": \"attributes/features/ml40::Composite/targets/ml40::Engine/features/ml40::RotationalSpeed/rpm\"\n",
      "}\n"
     ]
    }
   ],
   "source": [
    "Image(filename=\"harvester_images/edge.png\", width=100, height=100)\n",
    "print_with_timestamp(\"Prepare the GetValueRequest.\")\n",
    "attributePath = input(\n",
    "        '[S3I]: please enter the attribute path of the value you want to receive from the harvester. Examples: \\nattributes/features/ml40::Composite/targets/ml40::Engine/features/ml40::RotationalSpeed/rpm \\nattributes/features/ml40::Location/longitude \\nattributes/features/ml40::Location/latitude\\n').strip(',\" ')\n",
    "\n",
    "msg_uuid = \"s3i:\" + str(uuid.uuid4())\n",
    "\n",
    "servReq = s3i.GetValueRequest()\n",
    "servReq.fillGetValueRequest(senderUUID=hmiId, receiverUUID=receivers, sender_endpoint=sender_endpoint,\n",
    "                                attributePath=attributePath, msgUUID=msg_uuid)\n",
    "print_with_timestamp(\"GetValueRequest prepared:\")\n",
    "print(json.dumps(servReq.msg, indent=2))"
   ]
  },
  {
   "cell_type": "markdown",
   "metadata": {},
   "source": [
    "## Send the request\n",
    "The HMI requests a new token to establish a connection to the broker and sends the request to the harvester's endpoint. It then checks incoming responses."
   ]
  },
  {
   "cell_type": "code",
   "execution_count": 166,
   "metadata": {},
   "outputs": [
    {
     "name": "stdout",
     "output_type": "stream",
     "text": [
      "[S3I][2020-07-28 13:49:03]: Sending the GetValueRequest to the harvester\n",
      "[S3I][2020-07-28 13:49:03]: [{\"endpoint\": \"s3ib://s3i:ef39a0ae-1f4a-4393-9508-ad70a4d38a63\", \"status\": \"Sending message succeeded\"}]\n"
     ]
    }
   ],
   "source": [
    "print_with_timestamp(\"Sending the GetValueRequest to the harvester\")\n",
    "access_token = s3i_identity_provider.get_token(s3i.TokenType.ACCESS_TOKEN)\n",
    "headers = {'Content-Type': 'application/json', 'Authorization': 'Bearer ' + access_token}\n",
    "messageIds.append(servReq.msg[\"identifier\"])\n",
    "for item in receiver_endpoints:\n",
    "    if \"s3ib\" in item and \"https\" not in item:\n",
    "        s3ib_endpoint = item\n",
    "    else:\n",
    "        continue \n",
    "response = requests.post(url=\"https://broker.s3i.vswf.dev/\"+s3ib_endpoint,\n",
    "                                data=json.dumps(servReq.msg), headers=headers)\n",
    "print_with_timestamp(response.text)"
   ]
  },
  {
   "cell_type": "markdown",
   "metadata": {},
   "source": [
    "## Receive the harvester's response"
   ]
  },
  {
   "cell_type": "code",
   "execution_count": 167,
   "metadata": {},
   "outputs": [],
   "source": [
    "def receive():\n",
    "    print_with_timestamp(\"Checking the harvester's response\")\n",
    "    access_token = s3i_identity_provider.get_token(s3i.TokenType.ACCESS_TOKEN)\n",
    "    headers = {'Content-Type': 'application/json', 'Authorization': 'Bearer ' + access_token}\n",
    "    response = requests.get(url=\"https://broker.s3i.vswf.dev/\"+sender_endpoint , headers=headers)\n",
    "    json_acceptable_string = response.text.replace(\"'\", \"\\\"\")\n",
    "\n",
    "    if json_acceptable_string:\n",
    "        if check_message_encryption(response.text.strip('\"')) == \"pgp\":\n",
    "            print_with_timestamp(\"You received a PGP message but this notebook can not decrypt PGP messages. Use the 03_inbox notebook to receive PGP messages.\")\n",
    "            print_with_timestamp(\"PGP Message: \" + response.text)\n",
    "            repeat()\n",
    "        else: \n",
    "            response_json = json.loads(json_acceptable_string)\n",
    "            print_with_timestamp(\"You received a message: \" + json.dumps(response_json, indent=2))\n",
    "            if response_json[\"replyingToMessage\"] in messageIds:\n",
    "                #print_with_timestamp(\"It is the respose from the harvester concerning your GetValueRequest with the id \" + response_json[\"replyingToMessage\"] + \". Your requested value is: \" + json.dumps(response_json[\"value\"], indent=2))\n",
    "                messageIds.remove(response_json[\"replyingToMessage\"])\n",
    "    else:\n",
    "        print_with_timestamp(\"The harvester did not respond yet.\")\n",
    "        repeat()\n",
    "\n",
    "\n",
    "def repeat():\n",
    "    decision = input(\"[S3I] Do you want to check for new messages again? [j/n]\")\n",
    "    if decision in yes:\n",
    "        receive()\n",
    "    elif decision in no:\n",
    "        print_with_timestamp(\"You do not want to check for more messages. If you want to check for new messages, just execute this cell again (Run button or SHIFT+RETURN)\")\n",
    "    else:\n",
    "        print_with_timestamp(\"I could not understand your response. If you want to check for new messages, just execute this cell again (Run button or SHIFT+RETURN)\")"
   ]
  },
  {
   "cell_type": "code",
   "execution_count": 168,
   "metadata": {},
   "outputs": [
    {
     "name": "stdout",
     "output_type": "stream",
     "text": [
      "[S3I][2020-07-28 13:49:03]: Checking the harvester's response\n",
      "[S3I][2020-07-28 13:49:04]: You received a message: {\n",
      "  \"value\": {\n",
      "    \"attributes/features/ml40::Composite/targets/ml40::Engine/features/ml40::RotationalSpeed/rpm\": 2200\n",
      "  },\n",
      "  \"replyingToMessage\": \"s3i:449784d1-9af8-434d-b617-d5dea5429c71\",\n",
      "  \"messageType\": \"getValueReply\",\n",
      "  \"sender\": \"s3i:ef39a0ae-1f4a-4393-9508-ad70a4d38a63\",\n",
      "  \"identifier\": \"s3i:d5dd14b3-e299-4305-90f7-4c2e2e8f4d33\",\n",
      "  \"receivers\": [\n",
      "    \"s3i:d974cf51-321b-4db4-b229-1e33ef640519\"\n",
      "  ]\n",
      "}\n"
     ]
    }
   ],
   "source": [
    "receive()"
   ]
  },
  {
   "cell_type": "markdown",
   "metadata": {},
   "source": [
    "# Get Harvester Cloud Copy from the S³I Repository"
   ]
  },
  {
   "cell_type": "code",
   "execution_count": 169,
   "metadata": {},
   "outputs": [
    {
     "data": {
      "text/html": [
       "<img src=\"harvester_images/repo.png\", width=500, height=500>\n"
      ],
      "text/plain": [
       "<IPython.core.display.HTML object>"
      ]
     },
     "metadata": {},
     "output_type": "display_data"
    }
   ],
   "source": [
    "%%html\n",
    "<img src=\"harvester_images/repo.png\", width=500, height=500>"
   ]
  },
  {
   "cell_type": "code",
   "execution_count": 170,
   "metadata": {},
   "outputs": [
    {
     "name": "stdout",
     "output_type": "stream",
     "text": [
      "[S3I][2020-07-28 13:49:04]: {\n",
      "  \"thingId\": \"s3i:ef39a0ae-1f4a-4393-9508-ad70a4d38a63\",\n",
      "  \"policyId\": \"s3i:ef39a0ae-1f4a-4393-9508-ad70a4d38a63\",\n",
      "  \"attributes\": {\n",
      "    \"class\": \"ml40::Thing\",\n",
      "    \"name\": \"gSFL Harvester\",\n",
      "    \"roles\": [\n",
      "      {\n",
      "        \"class\": \"fml40::Harvester\"\n",
      "      }\n",
      "    ],\n",
      "    \"features\": [\n",
      "      {\n",
      "        \"class\": \"ml40::Composite\",\n",
      "        \"targets\": [\n",
      "          {\n",
      "            \"class\": \"ml40::Thing\",\n",
      "            \"name\": \"Motor\",\n",
      "            \"roles\": [\n",
      "              {\n",
      "                \"class\": \"ml40::Engine\"\n",
      "              }\n",
      "            ],\n",
      "            \"features\": [\n",
      "              {\n",
      "                \"class\": \"ml40::RotationalSpeed\",\n",
      "                \"rpm\": \"ditto-feature:id1\"\n",
      "              }\n",
      "            ]\n",
      "          },\n",
      "          {\n",
      "            \"class\": \"ml40::Thing\",\n",
      "            \"name\": \"Kran\",\n",
      "            \"roles\": [\n",
      "              {\n",
      "                \"class\": \"ml40::Crane\"\n",
      "              }\n",
      "            ],\n",
      "            \"features\": [\n",
      "              {\n",
      "                \"class\": \"ml40::Shared\",\n",
      "                \"targets\": [\n",
      "                  {\n",
      "                    \"class\": \"ml40::Thing\",\n",
      "                    \"name\": \"Harvesterkopf\",\n",
      "                    \"roles\": \"fml40::HarvestingHead\",\n",
      "                    \"features\": [\n",
      "                      {\n",
      "                        \"class\": \"fml40::Grabs\"\n",
      "                      },\n",
      "                      {\n",
      "                        \"class\": \"fml40::Cuts\"\n",
      "                      }\n",
      "                    ]\n",
      "                  }\n",
      "                ]\n",
      "              }\n",
      "            ]\n",
      "          },\n",
      "          {\n",
      "            \"class\": \"ml40::Thing\",\n",
      "            \"name\": \"Bordcomputer\",\n",
      "            \"roles\": [\n",
      "              {\n",
      "                \"class\": \"ml40::MachineUI\"\n",
      "              }\n",
      "            ]\n",
      "          }\n",
      "        ]\n",
      "      },\n",
      "      {\n",
      "        \"class\": \"fml40::ProvidesProductionData\"\n",
      "      },\n",
      "      {\n",
      "        \"class\": \"fml40::AcceptsFellingJobs\"\n",
      "      },\n",
      "      {\n",
      "        \"class\": \"fml40::Harvests\"\n",
      "      },\n",
      "      {\n",
      "        \"class\": \"ml40::ManagesJobs\"\n",
      "      },\n",
      "      {\n",
      "        \"class\": \"fml40::AcceptsProximityAlert\"\n",
      "      },\n",
      "      {\n",
      "        \"class\": \"ml40::Location\",\n",
      "        \"longitude\": \"ditto-feature:id2\",\n",
      "        \"latitude\": \"ditto-feature:id3\"\n",
      "      },\n",
      "      {\n",
      "        \"class\": \"ml40::Dimensions\",\n",
      "        \"width\": 3,\n",
      "        \"height\": 4,\n",
      "        \"length\": 8\n",
      "      },\n",
      "      {\n",
      "        \"class\": \"ml40::Weight\",\n",
      "        \"weight\": 23456.7\n",
      "      },\n",
      "      {\n",
      "        \"class\": \"ml40::OperatingHours\",\n",
      "        \"total\": 3032.1\n",
      "      }\n",
      "    ]\n",
      "  },\n",
      "  \"features\": {\n",
      "    \"id3\": {\n",
      "      \"properties\": {\n",
      "        \"latitude\": 51.45290905110912\n",
      "      }\n",
      "    },\n",
      "    \"id2\": {\n",
      "      \"properties\": {\n",
      "        \"longitude\": 7.995628567992779\n",
      "      }\n",
      "    },\n",
      "    \"id1\": {\n",
      "      \"properties\": {\n",
      "        \"rpm\": 2200\n",
      "      }\n",
      "    }\n",
      "  }\n",
      "}\n"
     ]
    }
   ],
   "source": [
    "access_token = s3i_identity_provider.get_token(s3i.TokenType.ACCESS_TOKEN)\n",
    "headers = {'Content-Type': 'application/json', 'Authorization': 'Bearer ' + access_token}\n",
    "response = requests.get(\n",
    "        url=\"https://ditto.s3i.vswf.dev/api/2/things/\"+harvesterID, headers=headers)\n",
    "harvesterRepo = json.loads(json.dumps(response.json()), object_pairs_hook=collections.OrderedDict)\n",
    "print_with_timestamp(json.dumps(harvesterRepo, indent=2))"
   ]
  },
  {
   "cell_type": "code",
   "execution_count": null,
   "metadata": {},
   "outputs": [],
   "source": []
  }
 ],
 "metadata": {
  "file_extension": ".py",
  "kernelspec": {
   "display_name": "Python 3",
   "language": "python",
   "name": "python3"
  },
  "mimetype": "text/x-python",
  "name": "python",
  "npconvert_exporter": "python",
  "pygments_lexer": "ipython3",
  "version": 3
 },
 "nbformat": 4,
 "nbformat_minor": 2
}
