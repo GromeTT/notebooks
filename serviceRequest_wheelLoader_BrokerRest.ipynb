{
 "cells": [
  {
   "cell_type": "markdown",
   "metadata": {},
   "source": [
    "# Wheel Loader Service Request\n",
    "This is a KWH HMI which allowes to request the wheel loader's *currentJobsDescription* service. Everyone can log in with their access data and authorize this HMI to call up the wheel loader's *currentJobsDescription* service. If you do not have an account yet, please contact the S³I team (s3i@kwh40.de). Of course you can also log in as one of the provided KWH user - forest expert or forest owner - if you do not want to use your own credentials."
   ]
  },
  {
   "cell_type": "markdown",
   "metadata": {},
   "source": [
    "First, all necessary modules are imported into the script, including the S³I library."
   ]
  },
  {
   "cell_type": "code",
   "execution_count": 12,
   "metadata": {},
   "outputs": [],
   "source": [
    "import s3i\n",
    "import json\n",
    "import uuid\n",
    "import jwt\n",
    "import time\n",
    "import os\n",
    "import base64\n",
    "import getpass\n",
    "import requests"
   ]
  },
  {
   "cell_type": "markdown",
   "metadata": {},
   "source": [
    "This Notebook acts as a client in terms of the S³I. In order to use the S³I it needs a client id and the respective secret. You can assign this notebook to your personal HMI, to make this notebook your HMI. Therefore enter the id and the secret of your HMI in the following input fields."
   ]
  },
  {
   "cell_type": "code",
   "execution_count": 17,
   "metadata": {},
   "outputs": [
    {
     "name": "stdout",
     "output_type": "stream",
     "text": [
      "[S3I][2020-05-23 20:31:25]: Assign a client to this notebook. (The id of your HMI)\n",
      "[S3I]: Please enter the client id:s3i:a3afa256-b80c-4a6d-bd9c-786887c8ce4a\n",
      "[S3I]: Please enter the secret:········\n",
      "[S3I][2020-05-23 20:31:57]: Client id and secret are set\n"
     ]
    }
   ],
   "source": [
    "print(\"[S3I][\" + time.strftime(\"%Y-%m-%d %H:%M:%S\", time.localtime()) +\n",
    "          \"]: Assign a client to this notebook. (The id of your HMI)\")\n",
    "clientId = input('[S3I]: Please enter the client id:')\n",
    "clientSecret = getpass.getpass('[S3I]: Please enter the secret:')\n",
    "print(\"[S3I][\" + time.strftime(\"%Y-%m-%d %H:%M:%S\", time.localtime()) +\n",
    "          \"]: Client id and secret are set\")"
   ]
  },
  {
   "cell_type": "markdown",
   "metadata": {},
   "source": [
    "Next, you have to enter your username and password. With your access data a token is requested which authorizes this client (your digital twin) to call up the wheel loader service on your behalf."
   ]
  },
  {
   "cell_type": "code",
   "execution_count": 18,
   "metadata": {},
   "outputs": [
    {
     "name": "stdout",
     "output_type": "stream",
     "text": [
      "[S3I][2020-05-23 20:31:59]: DEMO Wheel loader (service call), please log in! (sachverstaendiger)\n",
      "[S3I]: Please enter your username:gebhard\n",
      "[S3I]: Please enter the password:········\n",
      "[S3I][2020-05-23 20:34:12]: Your credentials are sent to S3I IdentityProvider.\n",
      "[S3I][2020-05-23 20:34:12]: Token received gebhard logged in.\n"
     ]
    }
   ],
   "source": [
    "print(\"[S3I][\" + time.strftime(\"%Y-%m-%d %H:%M:%S\", time.localtime()) +\n",
    "          \"]: DEMO Wheel loader (service call), please log in! (sachverstaendiger)\")\n",
    "username = input('[S3I]: Please enter your username:')\n",
    "password = getpass.getpass('[S3I]: Please enter the password:')\n",
    "print(\"[S3I][\" + time.strftime(\"%Y-%m-%d %H:%M:%S\", time.localtime()\n",
    "                                   ) + \"]: Your credentials are sent to S3I IdentityProvider.\")\n",
    "s3i_identity_provider = s3i.IdentityProvider(grant_type='password', identity_provider_url=\"https://idp.s3i.vswf.dev/\", realm='KWH',\n",
    "                                         client_id=clientId, client_secret=clientSecret, username=username, password=password)\n",
    "access_token = s3i_identity_provider.get_token(s3i.TokenType.ACCESS_TOKEN, scope=\"\")\n",
    "\n",
    "''' decode the access token\n",
    "'''\n",
    "parsed_username = jwt.decode(access_token, verify=False)[\n",
    "    \"preferred_username\"]\n",
    "\n",
    "print(\"[S3I][\" + time.strftime(\"%Y-%m-%d %H:%M:%S\",\n",
    "                               time.localtime()) + \"]: Token received \" + parsed_username + \" logged in.\")"
   ]
  },
  {
   "cell_type": "markdown",
   "metadata": {},
   "source": [
    "After the token has been received, it can be used to query the endpoint of the wheel loader. To query the wheel loader in the S³I Directory, you must have the rights to view the wheel loader. With the creation of your S³I account you should have got this right. In case of problems please contact the S³I team (s3i@kwh40.de).\n",
    "\n",
    "Besides the endpoint of the wheel loder, the enpoint of the HMI is also needed to add as \"ReplyToEnpoint\" field in the request. The endpoint of this HMI is also queried from the directory, as it may has changed. By querying its own endpoint from the directory, the HMI is independent of changes made to its own endpoint. These changes then only need to be listed in the directory."
   ]
  },
  {
   "cell_type": "code",
   "execution_count": 24,
   "metadata": {},
   "outputs": [
    {
     "name": "stdout",
     "output_type": "stream",
     "text": [
      "[S3I][2020-05-23 20:39:28]: Authentication with Token in S3I Directory successful\n",
      "[S3I][2020-05-23 20:39:28]: Prepare the service request.\n"
     ]
    }
   ],
   "source": [
    "''' authentication with JWT in S3I Directory \n",
    "'''\n",
    "\n",
    "s3i_directory = s3i.Directory(\n",
    "    s3i_dir_url=\"https://dir.s3i.vswf.dev/api/2/\", token=access_token)\n",
    "\n",
    "print(\"[S3I][\" + time.strftime(\"%Y-%m-%d %H:%M:%S\", time.localtime()\n",
    "                                   ) + \"]: Authentication with Token in S3I Directory successful\")\n",
    "    \n",
    "''' query the sender's endpoint\n",
    "'''\n",
    "sender_endpoint = s3i_directory.queryThingIDBased(clientId+\"/attributes/allEndpoints\")[0]\n",
    "    \n",
    "''' query the wheel loaders's Id and endpoint\n",
    "'''\n",
    "wheelloaderID = s3i_directory.queryAttributeBased(\n",
    "    \"name\", \"wheelloader\")[0][\"thingId\"]\n",
    "\n",
    "wheelloaderServiceEndpoint = s3i_directory.queryEndpointService(\n",
    "    wheelloaderID, \"currentJobsDescription\")\n",
    "\n",
    "receivers = [wheelloaderID]\n",
    "receiver_endpoints = wheelloaderServiceEndpoint\n",
    "\n",
    "print(\"[S3I][\" + time.strftime(\"%Y-%m-%d %H:%M:%S\",\n",
    "                                   time.localtime()) + \"]: Prepare the service request.\")\n",
    "\n",
    "parameters = {\n",
    "    \"service\":\"No parameters needed\"\n",
    "}\n",
    "msg_uuid = \"s3i:\" + str(uuid.uuid4())\n",
    "\n",
    "'''\n",
    "create service request\n",
    "'''\n",
    "servReq = s3i.ServiceRequest()\n",
    "servReq.fillServiceRequest(senderUUID=clientId, receiverUUID=receivers, sender_endpoint=sender_endpoint,\n",
    "                           serviceType=\"currentJobsDescription\", parameters=parameters, msgUUID=msg_uuid)"
   ]
  },
  {
   "cell_type": "markdown",
   "metadata": {},
   "source": [
    "After querying the enpoints, the message is prepared. Since it is a service request, a *ServiceRequest* is instantiated and filled in."
   ]
  },
  {
   "cell_type": "code",
   "execution_count": 25,
   "metadata": {},
   "outputs": [
    {
     "name": "stdout",
     "output_type": "stream",
     "text": [
      "[S3I][2020-05-23 20:39:42]: Sending the service request to the wheel loader\n",
      "['s3ibs://s3i:7f654f13-11ac-413d-841c-10a8e431fc35']\n",
      "[{\"endpoint\": \"s3ibs://s3i:7f654f13-11ac-413d-841c-10a8e431fc35\", \"status\": \"Sending message succeeded\"}]\n"
     ]
    }
   ],
   "source": [
    "print(\"[S3I][\" + time.strftime(\"%Y-%m-%d %H:%M:%S\", time.localtime()\n",
    "                               ) + \"]: Sending the service request to the wheel loader\")\n",
    "access_token = s3i_identity_provider.get_token(s3i.TokenType.ACCESS_TOKEN)\n",
    "headers = {'Content-Type': 'application/json', 'Authorization': 'Bearer ' + access_token}\n",
    "print(receiver_endpoints)\n",
    "response = requests.post(url=\"https://broker.s3i.vswf.dev/\"+receiver_endpoints[0] ,\n",
    "                                data=json.dumps(servReq.msg), headers=headers)\n",
    "print(response.text)"
   ]
  },
  {
   "cell_type": "markdown",
   "metadata": {},
   "source": [
    "The HMI uses the token to establish a connection to the broker and sends the service request to the wheel loader's endpoint. It then waits for incoming responses. If a message arrives, the callback function is called and prints the result of the service request."
   ]
  },
  {
   "cell_type": "code",
   "execution_count": 26,
   "metadata": {},
   "outputs": [
    {
     "name": "stdout",
     "output_type": "stream",
     "text": [
      "[S3I][2020-05-23 20:39:45]: Waiting fot the wheel loader's response...\n",
      "[S3I][2020-05-23 20:39:46]: The wheel loader responded with:\n",
      "I am moving stuff from A to B.\n"
     ]
    }
   ],
   "source": [
    "print(\"[S3I][\" + time.strftime(\"%Y-%m-%d %H:%M:%S\", time.localtime()\n",
    "                               ) + \"]: Waiting fot the wheel loader's response...\")\n",
    "access_token = s3i_identity_provider.get_token(s3i.TokenType.ACCESS_TOKEN)\n",
    "headers = {'Content-Type': 'application/json', 'Authorization': 'Bearer ' + access_token}\n",
    "response = requests.get(url=\"https://broker.s3i.vswf.dev/\"+sender_endpoint , headers=headers)\n",
    "json_acceptable_string = response.text.replace(\"'\", \"\\\"\")\n",
    "response_json = json.loads(json_acceptable_string)\n",
    "print(\"[S3I][\" + time.strftime(\"%Y-%m-%d %H:%M:%S\", time.localtime()\n",
    "                               ) + \"]: The wheel loader responded with:\")\n",
    "print(response_json[\"results\"])"
   ]
  },
  {
   "cell_type": "code",
   "execution_count": 27,
   "metadata": {},
   "outputs": [
    {
     "name": "stdout",
     "output_type": "stream",
     "text": [
      "[S3I]: please enter the attribute path of the value you want to receive from the wheel loader (e.g., attributes/features/ml40::Composite/targets/ml40::Tank/features/ml40::LiquidFillingLevel/currentLevel): \n",
      "attributes/features/ml40::Location\n"
     ]
    }
   ],
   "source": [
    "attributePath = input(\n",
    "        '[S3I]: please enter the attribute path of the value you want to receive from the wheel loader (e.g., attributes/features/ml40::Composite/targets/ml40::Tank/features/ml40::LiquidFillingLevel/currentLevel): \\n')\n",
    "\n",
    "msg_uuid = \"s3i:\" + str(uuid.uuid4())\n",
    "\n",
    "servReq = s3i.GetValueRequest()\n",
    "servReq.fillGetValueRequest(senderUUID=clientId, receiverUUID=receivers, sender_endpoint=sender_endpoint,\n",
    "                                attributePath=attributePath, msgUUID=msg_uuid)"
   ]
  },
  {
   "cell_type": "code",
   "execution_count": 28,
   "metadata": {},
   "outputs": [
    {
     "name": "stdout",
     "output_type": "stream",
     "text": [
      "[S3I][2020-05-23 20:40:40]: Sending the service request to the wheel loader\n",
      "['s3ibs://s3i:7f654f13-11ac-413d-841c-10a8e431fc35']\n",
      "[{\"endpoint\": \"s3ibs://s3i:7f654f13-11ac-413d-841c-10a8e431fc35\", \"status\": \"Sending message succeeded\"}]\n"
     ]
    }
   ],
   "source": [
    "print(\"[S3I][\" + time.strftime(\"%Y-%m-%d %H:%M:%S\", time.localtime()\n",
    "                               ) + \"]: Sending the service request to the wheel loader\")\n",
    "access_token = s3i_identity_provider.get_token(s3i.TokenType.ACCESS_TOKEN)\n",
    "headers = {'Content-Type': 'application/json', 'Authorization': 'Bearer ' + access_token}\n",
    "print(receiver_endpoints)\n",
    "response = requests.post(url=\"https://broker.s3i.vswf.dev/\"+receiver_endpoints[0] ,\n",
    "                                data=json.dumps(servReq.msg), headers=headers)\n",
    "print(response.text)"
   ]
  },
  {
   "cell_type": "code",
   "execution_count": 29,
   "metadata": {},
   "outputs": [
    {
     "name": "stdout",
     "output_type": "stream",
     "text": [
      "[S3I][2020-05-23 20:40:43]: Waiting fot the wheel loader's response...\n",
      "[S3I][2020-05-23 20:40:43]: The wheel loader responded with:\n",
      "{'sender': 's3i:7f654f13-11ac-413d-841c-10a8e431fc35', 'replyingToMessage': 's3i:912daed1-3951-4398-8a0d-0aefb50bd9f8', 'messageType': 'getValueReply', 'identifier': 's3i:6edf486e-1ce4-4155-a8e0-cc903ba7ba49', 'value': {'longitude': 7.97917, 'class': 'ml40::Location', 'latitude': 51.45278}, 'receivers': 's3i:a3afa256-b80c-4a6d-bd9c-786887c8ce4a'}\n",
      "{'longitude': 7.97917, 'class': 'ml40::Location', 'latitude': 51.45278}\n"
     ]
    }
   ],
   "source": [
    "print(\"[S3I][\" + time.strftime(\"%Y-%m-%d %H:%M:%S\", time.localtime()\n",
    "                               ) + \"]: Waiting fot the wheel loader's response...\")\n",
    "access_token = s3i_identity_provider.get_token(s3i.TokenType.ACCESS_TOKEN)\n",
    "headers = {'Content-Type': 'application/json', 'Authorization': 'Bearer ' + access_token}\n",
    "response = requests.get(url=\"https://broker.s3i.vswf.dev/\"+sender_endpoint , headers=headers)\n",
    "json_acceptable_string = response.text.replace(\"'\", \"\\\"\")\n",
    "response_json = json.loads(json_acceptable_string)\n",
    "print(\"[S3I][\" + time.strftime(\"%Y-%m-%d %H:%M:%S\", time.localtime()\n",
    "                               ) + \"]: The wheel loader responded with:\")\n",
    "print(response_json[\"value\"])"
   ]
  },
  {
   "cell_type": "code",
   "execution_count": null,
   "metadata": {},
   "outputs": [],
   "source": []
  }
 ],
 "metadata": {
  "file_extension": ".py",
  "kernelspec": {
   "display_name": "Python 3.7.3 32-bit ('jupyter': virtualenv)",
   "language": "python",
   "name": "python37332bitjupytervirtualenv4f42e6dc07bb497395a4f5b6edb2161c"
  },
  "language_info": {
   "codemirror_mode": {
    "name": "ipython",
    "version": 3
   },
   "file_extension": ".py",
   "mimetype": "text/x-python",
   "name": "python",
   "nbconvert_exporter": "python",
   "pygments_lexer": "ipython3",
   "version": "3.7.3"
  },
  "mimetype": "text/x-python",
  "name": "python",
  "npconvert_exporter": "python",
  "pygments_lexer": "ipython3",
  "version": 3
 },
 "nbformat": 4,
 "nbformat_minor": 2
}
