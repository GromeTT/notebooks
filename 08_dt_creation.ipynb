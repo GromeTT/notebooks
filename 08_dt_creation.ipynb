{
 "cells": [
  {
   "cell_type": "markdown",
   "metadata": {},
   "source": [
    "# Registration"
   ]
  },
  {
   "cell_type": "code",
   "execution_count": null,
   "metadata": {},
   "outputs": [],
   "source": [
    "# TODO: Use api to register a user (Jiahang)"
   ]
  },
  {
   "cell_type": "markdown",
   "metadata": {},
   "source": [
    "# Credentials"
   ]
  },
  {
   "cell_type": "code",
   "execution_count": null,
   "metadata": {},
   "outputs": [],
   "source": [
    "username=\"\"\n",
    "password=\"\""
   ]
  },
  {
   "cell_type": "markdown",
   "metadata": {},
   "source": [
    "# Get JWT"
   ]
  },
  {
   "cell_type": "code",
   "execution_count": null,
   "metadata": {},
   "outputs": [],
   "source": [
    "from s3i.identity_provider import IdentityProvider, TokenType\n",
    "from s3i.validataion import\n",
    "\n",
    "idp = IdentityProvider(\"password\", \n",
    "                       client_id=\"admin-cli\",\n",
    "                       client_secret=\"\", \n",
    "                       realm=\"KWH\",\n",
    "                       username=username, \n",
    "                       password=password)\n",
    "token = idp.get_token(TokenType.ACCESS_TOKEN, scope=\"email\")\n",
    "print(token)"
   ]
  },
  {
   "cell_type": "markdown",
   "metadata": {},
   "source": [
    "# Create digital twin"
   ]
  },
  {
   "cell_type": "code",
   "execution_count": null,
   "metadata": {},
   "outputs": [],
   "source": [
    "import json\n",
    "from s3i.config import Config\n",
    "from s3i.directory import Directory\n",
    "from s3i.repository import Repository"
   ]
  },
  {
   "cell_type": "code",
   "execution_count": null,
   "metadata": {},
   "outputs": [],
   "source": [
    "config = Config(token=token)\n",
    "result = config.create_thing(encrypted=True)"
   ]
  },
  {
   "cell_type": "code",
   "execution_count": null,
   "metadata": {},
   "outputs": [],
   "source": [
    "def eval_result(result):\n",
    "    status_code = result.status_code\n",
    "    # Use try-except\n",
    "    if status_code != 201:\n",
    "        print(f\"Thing has not been created: {status_code}\")\n",
    "    else:\n",
    "        j_ob = json.loads(result.text)\n",
    "        thing_id = j_ob[\"identifier\"]\n",
    "        secret = j_ob[\"secret\"]\n",
    "        print(\"Thing has been successfully created:\\n\\tid: {}\\n\\tsecret: {}\".format(thing_id, secret))\n",
    "        return thing_id, secret"
   ]
  },
  {
   "cell_type": "code",
   "execution_count": null,
   "metadata": {},
   "outputs": [],
   "source": [
    "thing_id, secret = eval_result(result)"
   ]
  },
  {
   "cell_type": "markdown",
   "metadata": {},
   "source": [
    "# Create service"
   ]
  },
  {
   "cell_type": "code",
   "execution_count": null,
   "metadata": {},
   "outputs": [],
   "source": [
    "result = config.create_thing(encrypted=True)\n",
    "service_id, service_secret = eval_result(result)"
   ]
  },
  {
   "cell_type": "markdown",
   "metadata": {},
   "source": [
    "# Update service"
   ]
  },
  {
   "cell_type": "code",
   "execution_count": null,
   "metadata": {},
   "outputs": [],
   "source": [
    "# TODO: Update the service! Probably something predefined!"
   ]
  },
  {
   "cell_type": "markdown",
   "metadata": {},
   "source": [
    "# Update thing in directory"
   ]
  },
  {
   "cell_type": "code",
   "execution_count": null,
   "metadata": {},
   "outputs": [],
   "source": [
    "def print_thing(thing):\n",
    "    print(json.dumps(thing, indent=2, sort_keys=True))"
   ]
  },
  {
   "cell_type": "code",
   "execution_count": null,
   "metadata": {},
   "outputs": [],
   "source": [
    "directory = Directory(token=token)\n",
    "thing_dir = directory.queryThingIDBased(thing_id)\n",
    "print_thing(thing_dir)"
   ]
  },
  {
   "cell_type": "markdown",
   "metadata": {},
   "source": [
    "## Define your thing"
   ]
  },
  {
   "cell_type": "code",
   "execution_count": null,
   "metadata": {},
   "outputs": [],
   "source": [
    "# TODO: Create endpoint\n",
    "name = \"MyThing\"\n",
    "typename = \"\"\n",
    "# TODO: For the time beeing string.\n",
    "role = \"MyRole\"\n",
    "# Add user defined functionality"
   ]
  },
  {
   "cell_type": "markdown",
   "metadata": {},
   "source": [
    "## Add new functionality"
   ]
  },
  {
   "cell_type": "code",
   "execution_count": null,
   "metadata": {},
   "outputs": [],
   "source": [
    "import uuid\n",
    "from ml.ml40.features.functionalities.functionality import Functionality\n",
    "from s3i.broker import Broker\n",
    "from s3i.messages import ServiceRequest\n",
    "from s3i.validation import validate_thing\n",
    "from s3i.identifier import to_endpoint, to_s3i_uuid"
   ]
  },
  {
   "cell_type": "code",
   "execution_count": null,
   "metadata": {},
   "outputs": [],
   "source": [
    "class MyFunctionality(Functionality):\n",
    "    def __init__(self, name, ref_managing_actor):\n",
    "        super(name, ref_managing_actor)\n",
    "    \n",
    "    def foo():\n",
    "        req = ServiceRequest()\n",
    "        \n",
    "        # Setup message\n",
    "        sender_uuid = to_s3i_uuid(thing_id)\n",
    "        receiver_uuid = to_s3i_uuid(service_id)\n",
    "        sender_endpoint = to_s3i_endpoint(receiver_endpoint, secure=True)\n",
    "        serviceType = \"ServiceRequest\"\n",
    "        msg_uuid = uuid.uuid4()\n",
    "        parameters = {\"myValue\" : 10}\n",
    "        req.fillServiceRequest(senderUUID=sender_uuid,\n",
    "                              receiverUUID=reciver_uuid,\n",
    "                              sender_endpoint=sender_endpoint,\n",
    "                              serviceType=service_type,\n",
    "                              parameters=parameters,\n",
    "                              msgUUID=msg_uuid)\n",
    "        # Send message to service\n",
    "        #broker = Broker()\n",
    "        #broker"
   ]
  },
  {
   "cell_type": "markdown",
   "metadata": {},
   "source": [
    "## Validation and update"
   ]
  },
  {
   "cell_type": "code",
   "execution_count": null,
   "metadata": {},
   "outputs": [],
   "source": [
    "def validate_and_update(ditto, thing):\n",
    "    # TODO: Integrate this functionality in ditto.updateThingIDBased?!\n",
    "    try:\n",
    "        # TODO: Activate this, wierd error happening atm.!\n",
    "        # validate_thing(thing)\n",
    "        result = ditto.updateThingIDBased(thingID=thing_id, payload=thing)\n",
    "        if result.status_code == 204:\n",
    "            print(\"Thing has been successfully updated:\")\n",
    "        else:\n",
    "            # TODO: Change error handling?!\n",
    "            print(\"\")\n",
    "    except Warning as error:\n",
    "        print(f\"Json code is invalid:\\n{error}\")\n",
    "    finally:\n",
    "        print_thing(thing)\n",
    "\n",
    "# TODO: Set attributes\n",
    "thing_dir[\"name\"] = name\n",
    "validate_and_update(directory, thing_dir)"
   ]
  },
  {
   "cell_type": "code",
   "execution_count": null,
   "metadata": {},
   "outputs": [],
   "source": []
  },
  {
   "cell_type": "markdown",
   "metadata": {},
   "source": [
    "# Update thing in repository"
   ]
  },
  {
   "cell_type": "code",
   "execution_count": null,
   "metadata": {},
   "outputs": [],
   "source": [
    "repository = Repository(token=token)\n",
    "thing_repo = repository.queryThingIDBased(thing_id)\n",
    "print(json.dumps(thing_repo, indent=2, sort_keys=True))"
   ]
  },
  {
   "cell_type": "code",
   "execution_count": null,
   "metadata": {},
   "outputs": [],
   "source": []
  },
  {
   "cell_type": "code",
   "execution_count": null,
   "metadata": {},
   "outputs": [],
   "source": []
  }
 ],
 "metadata": {
  "kernelspec": {
   "display_name": "Python 3",
   "language": "python",
   "name": "python3"
  },
  "language_info": {
   "codemirror_mode": {
    "name": "ipython",
    "version": 3
   },
   "file_extension": ".py",
   "mimetype": "text/x-python",
   "name": "python",
   "nbconvert_exporter": "python",
   "pygments_lexer": "ipython3",
   "version": "3.7.0"
  }
 },
 "nbformat": 4,
 "nbformat_minor": 4
}
