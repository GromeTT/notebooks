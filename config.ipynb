{
 "cells": [
  {
   "cell_type": "code",
   "execution_count": 1,
   "metadata": {},
   "outputs": [],
   "source": [
    "from s3i import IdentityProvider, TokenType, Broker, Directory"
   ]
  },
  {
   "cell_type": "code",
   "execution_count": 2,
   "metadata": {},
   "outputs": [
    {
     "name": "stdout",
     "output_type": "stream",
     "text": [
      "Stored 'USERNAME' (str)\n",
      "Stored 'PASSWORD' (str)\n"
     ]
    }
   ],
   "source": [
    "USERNAME = \"KWH-Team\" #\"adelbert\" #input('[S3I]: Please enter the username:')\n",
    "%store USERNAME\n",
    "PASSWORD = \"V4yuJ31izh0GCH36954O\" #\"adelbert\" #\"V4yuJ31izh0GCH36954O\" #getpass.getpass('[S3I]: Please enter the password:')\n",
    "%store PASSWORD"
   ]
  },
  {
   "cell_type": "code",
   "execution_count": 4,
   "metadata": {},
   "outputs": [
    {
     "name": "stdout",
     "output_type": "stream",
     "text": [
      "Stored 'CLIENT' (str)\n",
      "Stored 'SECRET' (str)\n"
     ]
    }
   ],
   "source": [
    "CLIENT = \"s3i:9b34f12b-f0ab-4f13-b0cc-82202e7a9770\" #\"s3i:4f076127-d9e2-477d-8d42-4453225bfaaa\" #\"s3i:3e7cfc9b-2fda-4c56-a4f0-b5e8f34b6da6\" #\"s3i:e09825e5-a872-4541-9ef4-31ceab014371\" #input('[S3I]: Please enter the thing id of this HMI:') #\n",
    "%store CLIENT\n",
    "SECRET = \"a1f025f3-687c-44ae-8b79-cd7ebdd076c8\" #\"5ad8387a-5183-471b-8dfe-da2c7c62557f\" #\"346e9867-e278-4ba3-b336-1421e5abd594\" # getpass.getpass('[S3I]: Please enter the secret:') # \n",
    "%store SECRET"
   ]
  },
  {
   "cell_type": "code",
   "execution_count": 5,
   "metadata": {},
   "outputs": [
    {
     "name": "stdout",
     "output_type": "stream",
     "text": [
      "Stored 'IDP' (IdentityProvider)\n"
     ]
    }
   ],
   "source": [
    "IDP = IdentityProvider(grant_type='password', identity_provider_url=\"https://idp.s3i.vswf.dev/\", realm='KWH',\n",
    "                                             client_id=CLIENT, client_secret=SECRET, username=USERNAME, password=PASSWORD)\n",
    "%store IDP\n",
    "#BROKER = Broker(auth_form='Username/Password', username=\" \", password=access_token, host=\"rabbitmq.s3i.vswf.dev\")\n",
    "#%store BROKER\n",
    "#DIRECTORY = Directory(s3i_dir_url=\"https://dir.s3i.vswf.dev/api/2/\", token=access_token)\n",
    "#%store DIRECTORY"
   ]
  },
  {
   "cell_type": "code",
   "execution_count": null,
   "metadata": {},
   "outputs": [],
   "source": []
  }
 ],
 "metadata": {
  "kernelspec": {
   "display_name": "Python 3.8.2 64-bit ('workshop': virtualenv)",
   "language": "python",
   "name": "python38264bitworkshopvirtualenv046ee23644a148ef85537ef68742d0de"
  },
  "language_info": {
   "codemirror_mode": {
    "name": "ipython",
    "version": 3
   },
   "file_extension": ".py",
   "mimetype": "text/x-python",
   "name": "python",
   "nbconvert_exporter": "python",
   "pygments_lexer": "ipython3",
   "version": "3.8.2"
  },
  "varInspector": {
   "cols": {
    "lenName": 16,
    "lenType": 16,
    "lenVar": 40
   },
   "kernels_config": {
    "python": {
     "delete_cmd_postfix": "",
     "delete_cmd_prefix": "del ",
     "library": "var_list.py",
     "varRefreshCmd": "print(var_dic_list())"
    },
    "r": {
     "delete_cmd_postfix": ") ",
     "delete_cmd_prefix": "rm(",
     "library": "var_list.r",
     "varRefreshCmd": "cat(var_dic_list()) "
    }
   },
   "position": {
    "height": "217.85px",
    "left": "821px",
    "right": "20px",
    "top": "96px",
    "width": "431px"
   },
   "types_to_exclude": [
    "module",
    "function",
    "builtin_function_or_method",
    "instance",
    "_Feature"
   ],
   "window_display": true
  }
 },
 "nbformat": 4,
 "nbformat_minor": 2
}
