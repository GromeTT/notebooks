{
 "cells": [
  {
   "cell_type": "markdown",
   "metadata": {},
   "source": [
    "# Wheel Loader Service Request\n",
    "This is a KWH HMI which allowes to request the wheel loader's location. Everyone can log in with their access data and assign this notebook to their HMI. To do this, simply enter your own HMI with the corresponding secret as the client in this script. Running this notebook, you will authorize your HMI to call up the wheel loader's location. \n",
    "Just go to the **Cell** drop-down menu and use the **Run All** button."
   ]
  },
  {
   "cell_type": "markdown",
   "metadata": {},
   "source": [
    "First, all necessary modules are imported into the script, including the S³I library."
   ]
  },
  {
   "cell_type": "code",
   "execution_count": 1,
   "metadata": {},
   "outputs": [],
   "source": [
    "import s3i\n",
    "import json\n",
    "import uuid\n",
    "import jwt\n",
    "import time\n",
    "import os\n",
    "import base64\n",
    "import getpass\n",
    "import requests"
   ]
  },
  {
   "cell_type": "markdown",
   "metadata": {},
   "source": [
    "This Notebook acts as a client in terms of the S³I. In order to use the S³I this notebook needs a client id and the respective secret. You can assign this notebook to your personal HMI, to make this notebook your HMI. Therefore enter the id and the secret of your HMI in the following input fields."
   ]
  },
  {
   "cell_type": "code",
   "execution_count": 2,
   "metadata": {},
   "outputs": [
    {
     "name": "stdout",
     "output_type": "stream",
     "text": [
      "[S3I][2020-05-24 09:52:21]: Assign a client to this notebook. (The id of your HMI)\n",
      "[S3I]: Please enter the client id:s3i:a3afa256-b80c-4a6d-bd9c-786887c8ce4a\n",
      "[S3I]: Please enter the secret:········\n",
      "[S3I][2020-05-24 09:52:33]: Client id and secret are set\n"
     ]
    }
   ],
   "source": [
    "print(\"[S3I][\" + time.strftime(\"%Y-%m-%d %H:%M:%S\", time.localtime()) +\n",
    "          \"]: Assign a client to this notebook. (The id of your HMI)\")\n",
    "clientId = input('[S3I]: Please enter the client id:')\n",
    "clientSecret = getpass.getpass('[S3I]: Please enter the secret:')\n",
    "print(\"[S3I][\" + time.strftime(\"%Y-%m-%d %H:%M:%S\", time.localtime()) +\n",
    "          \"]: Client id and secret are set\")"
   ]
  },
  {
   "cell_type": "markdown",
   "metadata": {},
   "source": [
    "Next, you have to enter your username and password. With your access data a token is requested which authorizes this client (your HMI) to call up the wheel loader's location on your behalf."
   ]
  },
  {
   "cell_type": "code",
   "execution_count": 3,
   "metadata": {},
   "outputs": [
    {
     "name": "stdout",
     "output_type": "stream",
     "text": [
      "[S3I][2020-05-24 09:52:33]: DEMO Wheel loader (service call), please log in! (sachverstaendiger)\n",
      "[S3I]: Please enter your username:gebhard\n",
      "[S3I]: Please enter the password:········\n",
      "[S3I][2020-05-24 09:52:38]: Your credentials are sent to S3I IdentityProvider.\n",
      "[S3I][2020-05-24 09:52:39]: Token received gebhard logged in.\n"
     ]
    }
   ],
   "source": [
    "print(\"[S3I][\" + time.strftime(\"%Y-%m-%d %H:%M:%S\", time.localtime()) +\n",
    "          \"]: DEMO Wheel loader (service call), please log in! (sachverstaendiger)\")\n",
    "username = input('[S3I]: Please enter your username:')\n",
    "password = getpass.getpass('[S3I]: Please enter the password:')\n",
    "print(\"[S3I][\" + time.strftime(\"%Y-%m-%d %H:%M:%S\", time.localtime()\n",
    "                                   ) + \"]: Your credentials are sent to S3I IdentityProvider.\")\n",
    "s3i_identity_provider = s3i.IdentityProvider(grant_type='password', identity_provider_url=\"https://idp.s3i.vswf.dev/\", realm='KWH',\n",
    "                                         client_id=clientId, client_secret=clientSecret, username=username, password=password)\n",
    "access_token = s3i_identity_provider.get_token(s3i.TokenType.ACCESS_TOKEN, scope=\"\")\n",
    "\n",
    "''' decode the access token\n",
    "'''\n",
    "parsed_username = jwt.decode(access_token, verify=False)[\n",
    "    \"preferred_username\"]\n",
    "\n",
    "print(\"[S3I][\" + time.strftime(\"%Y-%m-%d %H:%M:%S\",\n",
    "                               time.localtime()) + \"]: Token received \" + parsed_username + \" logged in.\")"
   ]
  },
  {
   "cell_type": "markdown",
   "metadata": {},
   "source": [
    "After the token has been received, it can be used to query the endpoint of the wheel loader. To query the wheel loader in the S³I Directory, you must have the rights to view the wheel loader. With the creation of your S³I account you should have got this right. In case of problems please contact the S³I team (s3i@kwh40.de).\n",
    "\n",
    "Besides the endpoint of the wheel loader, the enpoint of this HMI is also needed to add as \"ReplyToEnpoint\" field in the request. The endpoint of this HMI is also queried from the directory, as it may has changed. By querying its own endpoint from the directory, the HMI is independent of changes made to its own endpoint. These changes then only need to be listed in the directory."
   ]
  },
  {
   "cell_type": "code",
   "execution_count": 4,
   "metadata": {},
   "outputs": [
    {
     "name": "stdout",
     "output_type": "stream",
     "text": [
      "[S3I][2020-05-24 09:52:39]: Authentication with Token in S3I Directory successful\n"
     ]
    },
    {
     "ename": "JSONDecodeError",
     "evalue": "Expecting value: line 1 column 1 (char 0)",
     "output_type": "error",
     "traceback": [
      "\u001b[1;31m---------------------------------------------------------------------------\u001b[0m",
      "\u001b[1;31mJSONDecodeError\u001b[0m                           Traceback (most recent call last)",
      "\u001b[1;32m<ipython-input-4-7434138f2923>\u001b[0m in \u001b[0;36m<module>\u001b[1;34m\u001b[0m\n\u001b[0;32m     10\u001b[0m ''' query the sender's endpoint\n\u001b[0;32m     11\u001b[0m '''\n\u001b[1;32m---> 12\u001b[1;33m \u001b[0msender_endpoint\u001b[0m \u001b[1;33m=\u001b[0m \u001b[0ms3i_directory\u001b[0m\u001b[1;33m.\u001b[0m\u001b[0mqueryThingIDBased\u001b[0m\u001b[1;33m(\u001b[0m\u001b[0mclientId\u001b[0m\u001b[1;33m+\u001b[0m\u001b[1;34m\"/attributes/allEndpoints\"\u001b[0m\u001b[1;33m)\u001b[0m\u001b[1;33m[\u001b[0m\u001b[1;36m0\u001b[0m\u001b[1;33m]\u001b[0m\u001b[1;33m\u001b[0m\u001b[1;33m\u001b[0m\u001b[0m\n\u001b[0m\u001b[0;32m     13\u001b[0m \u001b[1;33m\u001b[0m\u001b[0m\n\u001b[0;32m     14\u001b[0m ''' query the wheel loaders's Id and endpoint\n",
      "\u001b[1;32md:\\gebhard\\release\\newtest\\s3i\\s3i\\directory.py\u001b[0m in \u001b[0;36mqueryThingIDBased\u001b[1;34m(self, thingID)\u001b[0m\n\u001b[0;32m     79\u001b[0m             url=self.s3i_dir_url + \"things/\" + thingID, headers=self.s3i_dir_headers)\n\u001b[0;32m     80\u001b[0m         \u001b[1;31m# return json.loads(response.text)\u001b[0m\u001b[1;33m\u001b[0m\u001b[1;33m\u001b[0m\u001b[1;33m\u001b[0m\u001b[0m\n\u001b[1;32m---> 81\u001b[1;33m         \u001b[1;32mreturn\u001b[0m \u001b[0mresponse\u001b[0m\u001b[1;33m.\u001b[0m\u001b[0mjson\u001b[0m\u001b[1;33m(\u001b[0m\u001b[1;33m)\u001b[0m\u001b[1;33m\u001b[0m\u001b[1;33m\u001b[0m\u001b[0m\n\u001b[0m\u001b[0;32m     82\u001b[0m \u001b[1;33m\u001b[0m\u001b[0m\n\u001b[0;32m     83\u001b[0m     \u001b[1;32mdef\u001b[0m \u001b[0mqueryAttributeBased\u001b[0m\u001b[1;33m(\u001b[0m\u001b[0mself\u001b[0m\u001b[1;33m,\u001b[0m \u001b[0mkey\u001b[0m\u001b[1;33m,\u001b[0m \u001b[0mvalue\u001b[0m\u001b[1;33m)\u001b[0m\u001b[1;33m:\u001b[0m\u001b[1;33m\u001b[0m\u001b[1;33m\u001b[0m\u001b[0m\n",
      "\u001b[1;32m~\\envs\\jupyter\\lib\\site-packages\\requests\\models.py\u001b[0m in \u001b[0;36mjson\u001b[1;34m(self, **kwargs)\u001b[0m\n\u001b[0;32m    895\u001b[0m                     \u001b[1;31m# used.\u001b[0m\u001b[1;33m\u001b[0m\u001b[1;33m\u001b[0m\u001b[1;33m\u001b[0m\u001b[0m\n\u001b[0;32m    896\u001b[0m                     \u001b[1;32mpass\u001b[0m\u001b[1;33m\u001b[0m\u001b[1;33m\u001b[0m\u001b[0m\n\u001b[1;32m--> 897\u001b[1;33m         \u001b[1;32mreturn\u001b[0m \u001b[0mcomplexjson\u001b[0m\u001b[1;33m.\u001b[0m\u001b[0mloads\u001b[0m\u001b[1;33m(\u001b[0m\u001b[0mself\u001b[0m\u001b[1;33m.\u001b[0m\u001b[0mtext\u001b[0m\u001b[1;33m,\u001b[0m \u001b[1;33m**\u001b[0m\u001b[0mkwargs\u001b[0m\u001b[1;33m)\u001b[0m\u001b[1;33m\u001b[0m\u001b[1;33m\u001b[0m\u001b[0m\n\u001b[0m\u001b[0;32m    898\u001b[0m \u001b[1;33m\u001b[0m\u001b[0m\n\u001b[0;32m    899\u001b[0m     \u001b[1;33m@\u001b[0m\u001b[0mproperty\u001b[0m\u001b[1;33m\u001b[0m\u001b[1;33m\u001b[0m\u001b[0m\n",
      "\u001b[1;32m~\\AppData\\Local\\Programs\\Python\\Python37-32\\Lib\\json\\__init__.py\u001b[0m in \u001b[0;36mloads\u001b[1;34m(s, encoding, cls, object_hook, parse_float, parse_int, parse_constant, object_pairs_hook, **kw)\u001b[0m\n\u001b[0;32m    346\u001b[0m             \u001b[0mparse_int\u001b[0m \u001b[1;32mis\u001b[0m \u001b[1;32mNone\u001b[0m \u001b[1;32mand\u001b[0m \u001b[0mparse_float\u001b[0m \u001b[1;32mis\u001b[0m \u001b[1;32mNone\u001b[0m \u001b[1;32mand\u001b[0m\u001b[1;33m\u001b[0m\u001b[1;33m\u001b[0m\u001b[0m\n\u001b[0;32m    347\u001b[0m             parse_constant is None and object_pairs_hook is None and not kw):\n\u001b[1;32m--> 348\u001b[1;33m         \u001b[1;32mreturn\u001b[0m \u001b[0m_default_decoder\u001b[0m\u001b[1;33m.\u001b[0m\u001b[0mdecode\u001b[0m\u001b[1;33m(\u001b[0m\u001b[0ms\u001b[0m\u001b[1;33m)\u001b[0m\u001b[1;33m\u001b[0m\u001b[1;33m\u001b[0m\u001b[0m\n\u001b[0m\u001b[0;32m    349\u001b[0m     \u001b[1;32mif\u001b[0m \u001b[0mcls\u001b[0m \u001b[1;32mis\u001b[0m \u001b[1;32mNone\u001b[0m\u001b[1;33m:\u001b[0m\u001b[1;33m\u001b[0m\u001b[1;33m\u001b[0m\u001b[0m\n\u001b[0;32m    350\u001b[0m         \u001b[0mcls\u001b[0m \u001b[1;33m=\u001b[0m \u001b[0mJSONDecoder\u001b[0m\u001b[1;33m\u001b[0m\u001b[1;33m\u001b[0m\u001b[0m\n",
      "\u001b[1;32m~\\AppData\\Local\\Programs\\Python\\Python37-32\\Lib\\json\\decoder.py\u001b[0m in \u001b[0;36mdecode\u001b[1;34m(self, s, _w)\u001b[0m\n\u001b[0;32m    335\u001b[0m \u001b[1;33m\u001b[0m\u001b[0m\n\u001b[0;32m    336\u001b[0m         \"\"\"\n\u001b[1;32m--> 337\u001b[1;33m         \u001b[0mobj\u001b[0m\u001b[1;33m,\u001b[0m \u001b[0mend\u001b[0m \u001b[1;33m=\u001b[0m \u001b[0mself\u001b[0m\u001b[1;33m.\u001b[0m\u001b[0mraw_decode\u001b[0m\u001b[1;33m(\u001b[0m\u001b[0ms\u001b[0m\u001b[1;33m,\u001b[0m \u001b[0midx\u001b[0m\u001b[1;33m=\u001b[0m\u001b[0m_w\u001b[0m\u001b[1;33m(\u001b[0m\u001b[0ms\u001b[0m\u001b[1;33m,\u001b[0m \u001b[1;36m0\u001b[0m\u001b[1;33m)\u001b[0m\u001b[1;33m.\u001b[0m\u001b[0mend\u001b[0m\u001b[1;33m(\u001b[0m\u001b[1;33m)\u001b[0m\u001b[1;33m)\u001b[0m\u001b[1;33m\u001b[0m\u001b[1;33m\u001b[0m\u001b[0m\n\u001b[0m\u001b[0;32m    338\u001b[0m         \u001b[0mend\u001b[0m \u001b[1;33m=\u001b[0m \u001b[0m_w\u001b[0m\u001b[1;33m(\u001b[0m\u001b[0ms\u001b[0m\u001b[1;33m,\u001b[0m \u001b[0mend\u001b[0m\u001b[1;33m)\u001b[0m\u001b[1;33m.\u001b[0m\u001b[0mend\u001b[0m\u001b[1;33m(\u001b[0m\u001b[1;33m)\u001b[0m\u001b[1;33m\u001b[0m\u001b[1;33m\u001b[0m\u001b[0m\n\u001b[0;32m    339\u001b[0m         \u001b[1;32mif\u001b[0m \u001b[0mend\u001b[0m \u001b[1;33m!=\u001b[0m \u001b[0mlen\u001b[0m\u001b[1;33m(\u001b[0m\u001b[0ms\u001b[0m\u001b[1;33m)\u001b[0m\u001b[1;33m:\u001b[0m\u001b[1;33m\u001b[0m\u001b[1;33m\u001b[0m\u001b[0m\n",
      "\u001b[1;32m~\\AppData\\Local\\Programs\\Python\\Python37-32\\Lib\\json\\decoder.py\u001b[0m in \u001b[0;36mraw_decode\u001b[1;34m(self, s, idx)\u001b[0m\n\u001b[0;32m    353\u001b[0m             \u001b[0mobj\u001b[0m\u001b[1;33m,\u001b[0m \u001b[0mend\u001b[0m \u001b[1;33m=\u001b[0m \u001b[0mself\u001b[0m\u001b[1;33m.\u001b[0m\u001b[0mscan_once\u001b[0m\u001b[1;33m(\u001b[0m\u001b[0ms\u001b[0m\u001b[1;33m,\u001b[0m \u001b[0midx\u001b[0m\u001b[1;33m)\u001b[0m\u001b[1;33m\u001b[0m\u001b[1;33m\u001b[0m\u001b[0m\n\u001b[0;32m    354\u001b[0m         \u001b[1;32mexcept\u001b[0m \u001b[0mStopIteration\u001b[0m \u001b[1;32mas\u001b[0m \u001b[0merr\u001b[0m\u001b[1;33m:\u001b[0m\u001b[1;33m\u001b[0m\u001b[1;33m\u001b[0m\u001b[0m\n\u001b[1;32m--> 355\u001b[1;33m             \u001b[1;32mraise\u001b[0m \u001b[0mJSONDecodeError\u001b[0m\u001b[1;33m(\u001b[0m\u001b[1;34m\"Expecting value\"\u001b[0m\u001b[1;33m,\u001b[0m \u001b[0ms\u001b[0m\u001b[1;33m,\u001b[0m \u001b[0merr\u001b[0m\u001b[1;33m.\u001b[0m\u001b[0mvalue\u001b[0m\u001b[1;33m)\u001b[0m \u001b[1;32mfrom\u001b[0m \u001b[1;32mNone\u001b[0m\u001b[1;33m\u001b[0m\u001b[1;33m\u001b[0m\u001b[0m\n\u001b[0m\u001b[0;32m    356\u001b[0m         \u001b[1;32mreturn\u001b[0m \u001b[0mobj\u001b[0m\u001b[1;33m,\u001b[0m \u001b[0mend\u001b[0m\u001b[1;33m\u001b[0m\u001b[1;33m\u001b[0m\u001b[0m\n",
      "\u001b[1;31mJSONDecodeError\u001b[0m: Expecting value: line 1 column 1 (char 0)"
     ]
    }
   ],
   "source": [
    "''' authentication with JWT in S3I Directory \n",
    "'''\n",
    "\n",
    "s3i_directory = s3i.Directory(\n",
    "    s3i_dir_url=\"https://dir.s3i.vswf.dev/api/2/\", token=access_token)\n",
    "\n",
    "print(\"[S3I][\" + time.strftime(\"%Y-%m-%d %H:%M:%S\", time.localtime()\n",
    "                                   ) + \"]: Authentication with Token in S3I Directory successful\")\n",
    "    \n",
    "''' query the sender's endpoint\n",
    "'''\n",
    "sender_endpoint = s3i_directory.queryThingIDBased(clientId+\"/attributes/allEndpoints\")[0]\n",
    "    \n",
    "''' query the wheel loaders's Id and endpoint\n",
    "'''\n",
    "wheelloaderID = s3i_directory.queryAttributeBased(\n",
    "    \"name\", \"wheelloader\")[0][\"thingId\"]\n",
    "\n",
    "wheelloaderServiceEndpoint = s3i_directory.queryEndpointService(\n",
    "    wheelloaderID, \"currentJobsDescription\")\n",
    "\n",
    "receivers = [wheelloaderID]\n",
    "receiver_endpoints = wheelloaderServiceEndpoint"
   ]
  },
  {
   "cell_type": "markdown",
   "metadata": {},
   "source": [
    "After querying the enpoints, the message is prepared. Since the location is one value of the wheel loader, a *GetValueRequest* is instantiated and filled in."
   ]
  },
  {
   "cell_type": "code",
   "execution_count": null,
   "metadata": {},
   "outputs": [],
   "source": [
    "print(\"[S3I][\" + time.strftime(\"%Y-%m-%d %H:%M:%S\",\n",
    "                                   time.localtime()) + \"]: Prepare the GetValueRequest.\")\n",
    "attributePath = input(\n",
    "        '[S3I]: please enter the attribute path of the value you want to receive from the wheel loader (e.g., attributes/features/ml40::Location): \\n')\n",
    "\n",
    "msg_uuid = \"s3i:\" + str(uuid.uuid4())\n",
    "\n",
    "servReq = s3i.GetValueRequest()\n",
    "servReq.fillGetValueRequest(senderUUID=clientId, receiverUUID=receivers, sender_endpoint=sender_endpoint,\n",
    "                                attributePath=attributePath, msgUUID=msg_uuid)\n",
    "print(\"[S3I][\" + time.strftime(\"%Y-%m-%d %H:%M:%S\",\n",
    "                                   time.localtime()) + \"]: GetValueRequest prepared:\", servReq.msg)"
   ]
  },
  {
   "cell_type": "markdown",
   "metadata": {},
   "source": [
    "The HMI uses the token to establish a connection to the broker and sends the request to the wheel loader's endpoint. It then checks incoming responses."
   ]
  },
  {
   "cell_type": "code",
   "execution_count": null,
   "metadata": {},
   "outputs": [],
   "source": [
    "print(\"[S3I][\" + time.strftime(\"%Y-%m-%d %H:%M:%S\", time.localtime()\n",
    "                               ) + \"]: Sending the GetValueRequest to the wheel loader\")\n",
    "access_token = s3i_identity_provider.get_token(s3i.TokenType.ACCESS_TOKEN)\n",
    "headers = {'Content-Type': 'application/json', 'Authorization': 'Bearer ' + access_token}\n",
    "print(receiver_endpoints)\n",
    "response = requests.post(url=\"https://broker.s3i.vswf.dev/\"+receiver_endpoints[0] ,\n",
    "                                data=json.dumps(servReq.msg), headers=headers)\n",
    "print(\"[S3I][\" + time.strftime(\"%Y-%m-%d %H:%M:%S\", time.localtime()\n",
    "                               ) + \"]:\", response.text)"
   ]
  },
  {
   "cell_type": "code",
   "execution_count": null,
   "metadata": {},
   "outputs": [],
   "source": [
    "print(\"[S3I][\" + time.strftime(\"%Y-%m-%d %H:%M:%S\", time.localtime()\n",
    "                               ) + \"]: Check the wheel loaders response\")\n",
    "access_token = s3i_identity_provider.get_token(s3i.TokenType.ACCESS_TOKEN)\n",
    "headers = {'Content-Type': 'application/json', 'Authorization': 'Bearer ' + access_token}\n",
    "response = requests.get(url=\"https://broker.s3i.vswf.dev/\"+sender_endpoint , headers=headers)\n",
    "json_acceptable_string = response.text.replace(\"'\", \"\\\"\")\n",
    "\n",
    "if json_acceptable_string:\n",
    "    response_json = json.loads(json_acceptable_string)\n",
    "    print(\"[S3I][\" + time.strftime(\"%Y-%m-%d %H:%M:%S\", time.localtime()\n",
    "                               ) + \"]: The wheel loader responded with:\")\n",
    "    print(30*\" \"+\"Longitude: \", response_json[\"value\"][\"longitude\"])\n",
    "    print(30*\" \"+\"Latitude: \", response_json[\"value\"][\"latitude\"])\n",
    "else:\n",
    "    print(\"[S3I][\" + time.strftime(\"%Y-%m-%d %H:%M:%S\", time.localtime()\n",
    "                               ) + \"]: The wheel did not respond yet.\")"
   ]
  }
 ],
 "metadata": {
  "file_extension": ".py",
  "kernelspec": {
   "display_name": "Python 3.7.3 32-bit ('jupyter': virtualenv)",
   "language": "python",
   "name": "python37332bitjupytervirtualenv4f42e6dc07bb497395a4f5b6edb2161c"
  },
  "language_info": {
   "codemirror_mode": {
    "name": "ipython",
    "version": 3
   },
   "file_extension": ".py",
   "mimetype": "text/x-python",
   "name": "python",
   "nbconvert_exporter": "python",
   "pygments_lexer": "ipython3",
   "version": "3.7.3"
  },
  "mimetype": "text/x-python",
  "name": "python",
  "npconvert_exporter": "python",
  "pygments_lexer": "ipython3",
  "version": 3
 },
 "nbformat": 4,
 "nbformat_minor": 2
}
