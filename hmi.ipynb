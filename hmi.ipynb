{
 "cells": [
  {
   "cell_type": "code",
   "execution_count": 21,
   "metadata": {},
   "outputs": [],
   "source": [
    "from s3i import UserMessage,IdentityProvider, TokenType, Broker, Key, Directory\n",
    "import os\n",
    "import uuid\n",
    "import base64\n",
    "\n",
    "%store -r"
   ]
  },
  {
   "cell_type": "markdown",
   "metadata": {},
   "source": [
    "# Get Token\n"
   ]
  },
  {
   "cell_type": "code",
   "execution_count": 23,
   "metadata": {},
   "outputs": [
    {
     "name": "stdout",
     "output_type": "stream",
     "text": [
      "[S3I]: Access token: \n",
      "  eyJhbGciOiJSUzI1NiIsInR5cCIgOiAiSldUIiwia2lkIiA6ICJPbzRfUTE0UGxjeVJfX1A5MXAtYXRaWURYa29GVV9ORk5qLWtLdDVHdXNJIn0.eyJqdGkiOiIxNTkwYzJjOS0wNWRkLTQ3NGYtODViYy1kZGJlNTJmMGI0MmUiLCJleHAiOjE1ODk4Mjc3MTUsIm5iZiI6MCwiaWF0IjoxNTg5ODI3NDE1LCJpc3MiOiJodHRwczovL2lkcC5zM2kudnN3Zi5kZXYvYXV0aC9yZWFsbXMvS1dIIiwiYXVkIjoicmFiYml0bXEiLCJzdWIiOiI2MDZkOGIzOC00YzNmLTQ2YmQtOTQ4Mi04Njc0OGUxMDhmMzIiLCJ0eXAiOiJCZWFyZXIiLCJhenAiOiJzM2k6NGYwNzYxMjctZDllMi00NzdkLThkNDItNDQ1MzIyNWJmYWFhIiwiYXV0aF90aW1lIjowLCJzZXNzaW9uX3N0YXRlIjoiMmQ3ZDIyMWUtZDlmNi00NjVlLTllOWItMmU2MjFkOWJkODA3IiwiYWNyIjoiMSIsInNjb3BlIjoib3BlbmlkIHJhYmJpdG1xLndyaXRlOiovKi8qIHByb2ZpbGUgcmFiYml0bXEucmVhZDoqLyovKiByYWJiaXRtcS50YWc6bW9uaXRvcmluZyBlbWFpbCIsImVtYWlsX3ZlcmlmaWVkIjpmYWxzZSwicHJlZmVycmVkX3VzZXJuYW1lIjoia3doLXRlYW0ifQ.cGNjhsQvQy2zCDCPdUXID1930hMvnFQfm0as8Dn1rTyVSeDP5CPfpVP7sV3Gl36R9NO32GUz86-ZPdxsxvX9YbRPZhz9VzENs_KR4oPMyi2MoBsAisvUtpaRYieBji-hasHe3Od4lslOJTDCJIqvgKFxboegDzQxZ0wTkJCVDTRXzbFiRr-CWMJdbK894KbQHUozq-iXT16onUTmypPpIQP-nhFLKGf5udW4RM6I77YzYDMvwFHNFfnoeXxUnNIPUex13jIc7BcWsCmk5YboTbf971dxxTikHfIXxRUm6DTqapdBUEoteXJHFRmlg9i8sQVE1higmNyIjpk4FYW60g\n"
     ]
    }
   ],
   "source": [
    "%store -r\n",
    "#idp = IdentityProvider(grant_type='password', identity_provider_url=\"https://idp.s3i.vswf.dev/\", realm='KWH',\n",
    "#                                             client_id=CLIENT, client_secret=SECRET, username=USERNAME, password=PASSWORD)\n",
    "print(\"[S3I]: Access token: \\n \", IDP.get_token(TokenType.ACCESS_TOKEN))"
   ]
  },
  {
   "cell_type": "markdown",
   "metadata": {},
   "source": [
    "# Send User Messages"
   ]
  },
  {
   "cell_type": "markdown",
   "metadata": {},
   "source": [
    "## Verify the endpoints"
   ]
  },
  {
   "cell_type": "code",
   "execution_count": 29,
   "metadata": {},
   "outputs": [
    {
     "name": "stdout",
     "output_type": "stream",
     "text": [
      "[S3I]: Please enter the receivers, seperate with a space:s3i:bf5a3b54-1ecc-4195-bc55-cb4757b895d0\n"
     ]
    }
   ],
   "source": [
    "receivers = [str(x) for x in input('[S3I]: Please enter the receivers, seperate with a space:').split()]\n"
   ]
  },
  {
   "cell_type": "code",
   "execution_count": 30,
   "metadata": {},
   "outputs": [],
   "source": [
    "#idp = IdentityProvider(grant_type='password', identity_provider_url=\"https://idp.s3i.vswf.dev/\", realm='KWH',\n",
    "#                                             client_id=CLIENT, client_secret=SECRET, username=USERNAME, password=PASSWORD)\n",
    "access_token = IDP.get_token(TokenType.ACCESS_TOKEN)\n",
    "dir = Directory(s3i_dir_url=\"https://dir.s3i.vswf.dev/api/2/\", token=access_token)\n",
    "defaultHMIs = [dir.queryThingIDBased(receiver+\"/attributes/defaultHMI\") for receiver in receivers]\n",
    "endpoints = [dir.queryThingIDBased(hmi+\"/attributes/allEndpoints\")[0] for hmi in defaultHMIs]"
   ]
  },
  {
   "cell_type": "code",
   "execution_count": null,
   "metadata": {},
   "outputs": [],
   "source": [
    "endpoints = [str(x) for x in input('[S3I]: Please enter the receivers, seperate with a space:').split()]"
   ]
  },
  {
   "cell_type": "code",
   "execution_count": null,
   "metadata": {},
   "outputs": [],
   "source": [
    "#receivers_endpoints = #[\"s3ibs://s3i:bf5a3b54-1ecc-4195-bc55-cb4757b895d0\"]\n",
    "#IDP = IdentityProvider(grant_type='password', identity_provider_url=\"https://idp.s3i.vswf.dev/\", realm='KWH',\n",
    "#                                             client_id=CLIENT, client_secret=SECRET, username=USERNAME, password=PASSWORD)\n",
    "#access_token = IDP.get_token(TokenType.ACCESS_TOKEN)\n",
    "#broker = Broker(auth_form='Username/Password', username=\" \", password=access_token, host=\"rabbitmq.s3i.vswf.dev\")\n",
    "#msg = UserMessage(sender=THINGID, identifier=\"apifruzt\",receivers=receivers_endpoints, subject=\"Test\", text=\"TestText\")\n",
    "\n",
    "#broker.send(receivers_endpoints,msg.msg.__str__())"
   ]
  },
  {
   "cell_type": "markdown",
   "metadata": {},
   "source": [
    "## Prepare the message"
   ]
  },
  {
   "cell_type": "code",
   "execution_count": 62,
   "metadata": {
    "scrolled": true
   },
   "outputs": [
    {
     "name": "stdout",
     "output_type": "stream",
     "text": [
      "[S3I]: please enter the subject: \n",
      "Jannik2\n",
      "[S3I]: please enter the text: \n",
      "Haeschen\n"
     ]
    }
   ],
   "source": [
    "subject = input('[S3I]: please enter the subject: \\n')\n",
    "text = input('[S3I]: please enter the text: \\n')\n",
    "msg_uuid = \"s3i:\" + str(uuid.uuid4())\n",
    "replyToEndpoint=None\n",
    "attachments=None"
   ]
  },
  {
   "cell_type": "markdown",
   "metadata": {},
   "source": [
    "### Add attachement to message"
   ]
  },
  {
   "cell_type": "code",
   "execution_count": 25,
   "metadata": {},
   "outputs": [
    {
     "name": "stdout",
     "output_type": "stream",
     "text": [
      "[S3I]: Please enter the name of file that you want to send: text.txt\n"
     ]
    }
   ],
   "source": [
    "filename_list = list(map(str, input(\"[S3I]: Please enter the name of file that you want to send: \").split()))\n",
    "attachments = list()\n",
    "\n",
    "for filename in filename_list:\n",
    "    attachment_dict = dict()\n",
    "    attachment_dict[\"filename\"] = filename\n",
    "    with open(\"attachment_files/\"+filename, \"rb\") as f:\n",
    "        # encode an attachment file to BASE64 bytes\n",
    "        base64_data = base64.b64encode(f.read())\n",
    "        data = base64_data.decode()  # convert byte to str\n",
    "        attachment_dict[\"data\"] = data\n",
    "        attachments.append(attachment_dict)"
   ]
  },
  {
   "cell_type": "markdown",
   "metadata": {},
   "source": [
    "## Assemble User Message"
   ]
  },
  {
   "cell_type": "code",
   "execution_count": 26,
   "metadata": {},
   "outputs": [
    {
     "name": "stdout",
     "output_type": "stream",
     "text": [
      "{'sender': 's3i:9b34f12b-f0ab-4f13-b0cc-82202e7a9770', 'identifier': 's3i:8f9eb115-c2fa-4aa8-b411-ea962e931c29', 'receivers': ['s3i:bf5a3b54-1ecc-4195-bc55-cb4757b895d0'], 'messageType': 'userMessage', 'replyToEndpoint': '', 'attachments': [{'filename': 'text.txt', 'data': 'VGhpcyBpcyBhbiBhdHRhY2htZW50'}], 'subject': 'Kannik', 'text': 'Hase2'}\n"
     ]
    }
   ],
   "source": [
    "message = UserMessage(sender=CLIENT, identifier=msg_uuid,receivers=receivers, subject=subject, text=text,\n",
    "                  replyToEndpoint=replyToEndpoint, attachments=attachments)\n",
    "print(message.msg)"
   ]
  },
  {
   "cell_type": "code",
   "execution_count": 65,
   "metadata": {},
   "outputs": [
    {
     "name": "stdout",
     "output_type": "stream",
     "text": [
      "-----BEGIN PGP MESSAGE-----\n",
      "\n",
      "yMG+ATvCy8zAxbiet0p4v+a0fIbTB7aXMsQduvC1Wr04NS8ltUjdSkG92DjTyiTN\n",
      "wNzM0MhcN8Uy1UjXxNw8RdcixQTIMjE1NjIyTUpLTExU11FQz0xJzSvJTMtE6DRM\n",
      "S7awNE4z1jVPMUrUNUk0S9NNMjZJ0U00STUwSEk1TTO2NAbpLEpNTs0sSy0qBmqM\n",
      "ButMSjNNNE4yNdE1TE1O1jUxtDTVTUo2NdVNTjIxNzVPsrA0TTFQjwVqzU0tLk5M\n",
      "Tw2pLEgF2VpanFrkCxGCGFyQUxmS75qXUpCfmVcCUgESTiwpSUzOyAU6F2wjyJzi\n",
      "0qSs1GSwCq/EvLzMbCOQwpLUCrCQR2JqcXJGah5Ccypcd7V6WmZOal5iLtgBIB16\n",
      "JUBdQJUpiSWJILEw94yC5EonEM5IynTKSPEIyog0yiiJCjc1UK+NrT10oJCFgZGL\n",
      "QZqVCRj+v0VEGhiAgI2BFeISj/ySkkoGLk4BWFQ9fcnBsKjGcltn0KZFVfOCOK5P\n",
      "2z5Bt7m3r0WuY0ZCXbblneBuyeA9PzalNL+9HNAZuSLpnd6O7/Ymm54KZ3t6Tg9y\n",
      "LJH5VVtf9Cr4c0V2htNy1YZFp7ibJ07m3W7tMuFThH3TSzH3BfH8e7U3yuQo5Djc\n",
      "vh4q0XWs7PDqI6dXr/Q5+TjNaivbvg/vVeoF+97cCp9ovcP5gXrpE5UlrQk/X286\n",
      "zC4rKv3WNn7B/tQ7U2fY8sy8u5ajdD7DohSfTPZ1vEbzfF5+N6xcHOjxUGLrU9eF\n",
      "9W8um/rt335UrOr0X40G04+B0cerUpUqN3+Vsc3+H1V41i5m16mkT2kbdov+NZvH\n",
      "+627V+7XlIzXajtuMBv5AQA=\n",
      "=pilJ\n",
      "-----END PGP MESSAGE-----\n",
      "\n"
     ]
    }
   ],
   "source": [
    "pgpKey_sec = Key(path_demo_dir=\"key\", filename=\"test_sec.asc\")\n",
    "message.sign(pgpKey_sec.key)\n",
    "print(message.pgpMsg.__str__())"
   ]
  },
  {
   "cell_type": "code",
   "execution_count": 27,
   "metadata": {
    "scrolled": false
   },
   "outputs": [
    {
     "data": {
      "text/plain": [
       "<pgpy.pgp.PGPMessage at 0x1b21658e9a0>"
      ]
     },
     "execution_count": 27,
     "metadata": {},
     "output_type": "execute_result"
    }
   ],
   "source": [
    "IDP = IdentityProvider(grant_type='password', identity_provider_url=\"https://idp.s3i.vswf.dev/\", realm='KWH',\n",
    "                                             client_id=CLIENT, client_secret=SECRET, username=USERNAME, password=PASSWORD)\n",
    "access_token = IDP.get_token(TokenType.ACCESS_TOKEN)\n",
    "dir = Directory(s3i_dir_url=\"https://dir.s3i.vswf.dev/api/2/\", token=access_token)\n",
    "publicKeys_str = dir.getPublicKey(receivers)\n",
    "#pubKey = Key(key_str = publicKeys)\n",
    "#message.encrypt(publicKeys)\n",
    "#print(message.pgpMsg.__str__())\n",
    "#key_str_list = s3i_directory.getPublicKey(receivers)\n",
    "publicKeys = [Key(key_str=i) for i in publicKeys_str]\n",
    "message.encrypt(publicKeys)\n",
    "#print(message.pgpMsg.__str__())"
   ]
  },
  {
   "cell_type": "code",
   "execution_count": 28,
   "metadata": {},
   "outputs": [],
   "source": [
    "IDP = IdentityProvider(grant_type='password', identity_provider_url=\"https://idp.s3i.vswf.dev/\", realm='KWH',\n",
    "                                             client_id=CLIENT, client_secret=SECRET, username=USERNAME, password=PASSWORD)\n",
    "access_token = IDP.get_token(TokenType.ACCESS_TOKEN)\n",
    "broker = Broker(auth_form='Username/Password', username=\" \", password=access_token, host=\"rabbitmq.s3i.vswf.dev\")\n",
    "broker.send(endpoints, message.pgpMsg.__str__())"
   ]
  }
 ],
 "metadata": {
  "kernelspec": {
   "display_name": "Python 3.8.2 64-bit ('workshop': virtualenv)",
   "language": "python",
   "name": "python38264bitworkshopvirtualenv046ee23644a148ef85537ef68742d0de"
  },
  "language_info": {
   "codemirror_mode": {
    "name": "ipython",
    "version": 3
   },
   "file_extension": ".py",
   "mimetype": "text/x-python",
   "name": "python",
   "nbconvert_exporter": "python",
   "pygments_lexer": "ipython3",
   "version": "3.8.2"
  },
  "varInspector": {
   "cols": {
    "lenName": 16,
    "lenType": 16,
    "lenVar": 40
   },
   "kernels_config": {
    "python": {
     "delete_cmd_postfix": "",
     "delete_cmd_prefix": "del ",
     "library": "var_list.py",
     "varRefreshCmd": "print(var_dic_list())"
    },
    "r": {
     "delete_cmd_postfix": ") ",
     "delete_cmd_prefix": "rm(",
     "library": "var_list.r",
     "varRefreshCmd": "cat(var_dic_list()) "
    }
   },
   "oldHeight": 290.85,
   "position": {
    "height": "40px",
    "left": "521px",
    "right": "20px",
    "top": "23px",
    "width": "800px"
   },
   "types_to_exclude": [
    "module",
    "function",
    "builtin_function_or_method",
    "instance",
    "_Feature"
   ],
   "varInspector_section_display": "none",
   "window_display": true
  }
 },
 "nbformat": 4,
 "nbformat_minor": 2
}
